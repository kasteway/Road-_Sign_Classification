{
 "cells": [
  {
   "cell_type": "code",
   "execution_count": 1,
   "id": "functional-prospect",
   "metadata": {
    "execution": {
     "iopub.execute_input": "2021-04-29T06:30:04.984337Z",
     "iopub.status.busy": "2021-04-29T06:30:04.983668Z",
     "iopub.status.idle": "2021-04-29T06:30:12.934681Z",
     "shell.execute_reply": "2021-04-29T06:30:12.935337Z"
    },
    "papermill": {
     "duration": 7.981433,
     "end_time": "2021-04-29T06:30:12.935703",
     "exception": false,
     "start_time": "2021-04-29T06:30:04.954270",
     "status": "completed"
    },
    "tags": []
   },
   "outputs": [],
   "source": [
    "import numpy as np\n",
    "import pandas as pd\n",
    "\n",
    "from PIL import Image\n",
    "import tensorflow as tf\n",
    "\n",
    "from sklearn.model_selection import train_test_split\n",
    "from skimage.transform import resize\n",
    "from sklearn.metrics import accuracy_score\n",
    "\n",
    "from tensorflow.keras.utils import to_categorical\n",
    "from tensorflow.keras.models import Sequential\n",
    "from tensorflow.keras.layers import Conv2D, MaxPool2D, Dense, Flatten, Dropout\n",
    "\n",
    "import matplotlib.pyplot as plt\n",
    "import seaborn as sns\n",
    "import os\n",
    "import cv2\n",
    "\n",
    "import warnings\n",
    "warnings.filterwarnings('ignore')"
   ]
  },
  {
   "cell_type": "markdown",
   "id": "another-marketing",
   "metadata": {
    "papermill": {
     "duration": 0.015512,
     "end_time": "2021-04-29T06:30:12.967488",
     "exception": false,
     "start_time": "2021-04-29T06:30:12.951976",
     "status": "completed"
    },
    "tags": []
   },
   "source": [
    "# Load Training Images Data"
   ]
  },
  {
   "cell_type": "code",
   "execution_count": 2,
   "id": "cebfb727",
   "metadata": {},
   "outputs": [
    {
     "data": {
      "text/html": [
       "<div>\n",
       "<style scoped>\n",
       "    .dataframe tbody tr th:only-of-type {\n",
       "        vertical-align: middle;\n",
       "    }\n",
       "\n",
       "    .dataframe tbody tr th {\n",
       "        vertical-align: top;\n",
       "    }\n",
       "\n",
       "    .dataframe thead th {\n",
       "        text-align: right;\n",
       "    }\n",
       "</style>\n",
       "<table border=\"1\" class=\"dataframe\">\n",
       "  <thead>\n",
       "    <tr style=\"text-align: right;\">\n",
       "      <th></th>\n",
       "      <th>Width</th>\n",
       "      <th>Height</th>\n",
       "      <th>Roi.X1</th>\n",
       "      <th>Roi.Y1</th>\n",
       "      <th>Roi.X2</th>\n",
       "      <th>Roi.Y2</th>\n",
       "      <th>ClassId</th>\n",
       "      <th>Path</th>\n",
       "    </tr>\n",
       "  </thead>\n",
       "  <tbody>\n",
       "    <tr>\n",
       "      <th>0</th>\n",
       "      <td>27</td>\n",
       "      <td>26</td>\n",
       "      <td>5</td>\n",
       "      <td>5</td>\n",
       "      <td>22</td>\n",
       "      <td>20</td>\n",
       "      <td>20</td>\n",
       "      <td>Train/20/00020_00000_00000.png</td>\n",
       "    </tr>\n",
       "    <tr>\n",
       "      <th>1</th>\n",
       "      <td>28</td>\n",
       "      <td>27</td>\n",
       "      <td>5</td>\n",
       "      <td>6</td>\n",
       "      <td>23</td>\n",
       "      <td>22</td>\n",
       "      <td>20</td>\n",
       "      <td>Train/20/00020_00000_00001.png</td>\n",
       "    </tr>\n",
       "    <tr>\n",
       "      <th>2</th>\n",
       "      <td>29</td>\n",
       "      <td>26</td>\n",
       "      <td>6</td>\n",
       "      <td>5</td>\n",
       "      <td>24</td>\n",
       "      <td>21</td>\n",
       "      <td>20</td>\n",
       "      <td>Train/20/00020_00000_00002.png</td>\n",
       "    </tr>\n",
       "    <tr>\n",
       "      <th>3</th>\n",
       "      <td>28</td>\n",
       "      <td>27</td>\n",
       "      <td>5</td>\n",
       "      <td>6</td>\n",
       "      <td>23</td>\n",
       "      <td>22</td>\n",
       "      <td>20</td>\n",
       "      <td>Train/20/00020_00000_00003.png</td>\n",
       "    </tr>\n",
       "    <tr>\n",
       "      <th>4</th>\n",
       "      <td>28</td>\n",
       "      <td>26</td>\n",
       "      <td>5</td>\n",
       "      <td>5</td>\n",
       "      <td>23</td>\n",
       "      <td>21</td>\n",
       "      <td>20</td>\n",
       "      <td>Train/20/00020_00000_00004.png</td>\n",
       "    </tr>\n",
       "    <tr>\n",
       "      <th>...</th>\n",
       "      <td>...</td>\n",
       "      <td>...</td>\n",
       "      <td>...</td>\n",
       "      <td>...</td>\n",
       "      <td>...</td>\n",
       "      <td>...</td>\n",
       "      <td>...</td>\n",
       "      <td>...</td>\n",
       "    </tr>\n",
       "    <tr>\n",
       "      <th>39204</th>\n",
       "      <td>52</td>\n",
       "      <td>56</td>\n",
       "      <td>5</td>\n",
       "      <td>6</td>\n",
       "      <td>47</td>\n",
       "      <td>51</td>\n",
       "      <td>42</td>\n",
       "      <td>Train/42/00042_00007_00025.png</td>\n",
       "    </tr>\n",
       "    <tr>\n",
       "      <th>39205</th>\n",
       "      <td>56</td>\n",
       "      <td>58</td>\n",
       "      <td>5</td>\n",
       "      <td>5</td>\n",
       "      <td>51</td>\n",
       "      <td>53</td>\n",
       "      <td>42</td>\n",
       "      <td>Train/42/00042_00007_00026.png</td>\n",
       "    </tr>\n",
       "    <tr>\n",
       "      <th>39206</th>\n",
       "      <td>58</td>\n",
       "      <td>62</td>\n",
       "      <td>5</td>\n",
       "      <td>6</td>\n",
       "      <td>53</td>\n",
       "      <td>57</td>\n",
       "      <td>42</td>\n",
       "      <td>Train/42/00042_00007_00027.png</td>\n",
       "    </tr>\n",
       "    <tr>\n",
       "      <th>39207</th>\n",
       "      <td>63</td>\n",
       "      <td>69</td>\n",
       "      <td>5</td>\n",
       "      <td>7</td>\n",
       "      <td>58</td>\n",
       "      <td>63</td>\n",
       "      <td>42</td>\n",
       "      <td>Train/42/00042_00007_00028.png</td>\n",
       "    </tr>\n",
       "    <tr>\n",
       "      <th>39208</th>\n",
       "      <td>68</td>\n",
       "      <td>69</td>\n",
       "      <td>7</td>\n",
       "      <td>6</td>\n",
       "      <td>62</td>\n",
       "      <td>63</td>\n",
       "      <td>42</td>\n",
       "      <td>Train/42/00042_00007_00029.png</td>\n",
       "    </tr>\n",
       "  </tbody>\n",
       "</table>\n",
       "<p>39209 rows × 8 columns</p>\n",
       "</div>"
      ],
      "text/plain": [
       "       Width  Height  Roi.X1  Roi.Y1  Roi.X2  Roi.Y2  ClassId  \\\n",
       "0         27      26       5       5      22      20       20   \n",
       "1         28      27       5       6      23      22       20   \n",
       "2         29      26       6       5      24      21       20   \n",
       "3         28      27       5       6      23      22       20   \n",
       "4         28      26       5       5      23      21       20   \n",
       "...      ...     ...     ...     ...     ...     ...      ...   \n",
       "39204     52      56       5       6      47      51       42   \n",
       "39205     56      58       5       5      51      53       42   \n",
       "39206     58      62       5       6      53      57       42   \n",
       "39207     63      69       5       7      58      63       42   \n",
       "39208     68      69       7       6      62      63       42   \n",
       "\n",
       "                                 Path  \n",
       "0      Train/20/00020_00000_00000.png  \n",
       "1      Train/20/00020_00000_00001.png  \n",
       "2      Train/20/00020_00000_00002.png  \n",
       "3      Train/20/00020_00000_00003.png  \n",
       "4      Train/20/00020_00000_00004.png  \n",
       "...                               ...  \n",
       "39204  Train/42/00042_00007_00025.png  \n",
       "39205  Train/42/00042_00007_00026.png  \n",
       "39206  Train/42/00042_00007_00027.png  \n",
       "39207  Train/42/00042_00007_00028.png  \n",
       "39208  Train/42/00042_00007_00029.png  \n",
       "\n",
       "[39209 rows x 8 columns]"
      ]
     },
     "execution_count": 2,
     "metadata": {},
     "output_type": "execute_result"
    }
   ],
   "source": [
    "trainDF = pd.read_csv('../data/gtsrb-german-traffic-sign/Train.csv')\n",
    "\n",
    "X_train = trainDF['Path']\n",
    "y_train = trainDF.ClassId\n",
    "\n",
    "trainDF"
   ]
  },
  {
   "cell_type": "markdown",
   "id": "d052f2ec",
   "metadata": {},
   "source": [
    "## Get Training images & Resize to 30x30"
   ]
  },
  {
   "cell_type": "code",
   "execution_count": 3,
   "id": "7447953f",
   "metadata": {},
   "outputs": [
    {
     "name": "stdout",
     "output_type": "stream",
     "text": [
      "(39209, 30, 30, 3) (39209,)\n"
     ]
    }
   ],
   "source": [
    "data_dir = \"../data/gtsrb-german-traffic-sign\"\n",
    "train_imgpath = list((data_dir + '/' + str(trainDF.Path[i])) for i in range(len(trainDF.Path)))\n",
    "\n",
    "train_data = []\n",
    "train_labels = []\n",
    "\n",
    "path = \"../data/gtsrb-german-traffic-sign/\"\n",
    "\n",
    "for i in range(len(trainDF.Path)):\n",
    "    image = cv2.imread(train_imgpath[i])\n",
    "    image_from_array = Image.fromarray(image, 'RGB')\n",
    "    size_image = image_from_array.resize((30,30))\n",
    "    train_data.append(np.array(size_image))\n",
    "    train_labels.append(trainDF.ClassId[i])\n",
    "\n",
    "img_data = np.array(train_data)\n",
    "img_labels = np.array(train_labels)\n",
    "\n",
    "print(img_data.shape, img_labels.shape)"
   ]
  },
  {
   "cell_type": "markdown",
   "id": "86cf57e0",
   "metadata": {},
   "source": [
    "## Train Test Split"
   ]
  },
  {
   "cell_type": "code",
   "execution_count": 4,
   "id": "acoustic-employment",
   "metadata": {
    "execution": {
     "iopub.execute_input": "2021-04-29T06:33:08.167906Z",
     "iopub.status.busy": "2021-04-29T06:33:08.166805Z",
     "iopub.status.idle": "2021-04-29T06:33:08.262962Z",
     "shell.execute_reply": "2021-04-29T06:33:08.262160Z"
    },
    "papermill": {
     "duration": 0.121523,
     "end_time": "2021-04-29T06:33:08.263148",
     "exception": false,
     "start_time": "2021-04-29T06:33:08.141625",
     "status": "completed"
    },
    "tags": []
   },
   "outputs": [
    {
     "name": "stdout",
     "output_type": "stream",
     "text": [
      "((31367, 30, 30, 3), (31367,)) ((7842, 30, 30, 3), (7842,))\n"
     ]
    }
   ],
   "source": [
    "X_train, X_test, y_train, y_test = train_test_split(img_data, img_labels, test_size= 0.20, random_state = 96)\n",
    "\n",
    "print((X_train.shape, y_train.shape), (X_test.shape, y_test.shape))"
   ]
  },
  {
   "cell_type": "markdown",
   "id": "51a0d20c",
   "metadata": {},
   "source": [
    "## One-Hot Encode"
   ]
  },
  {
   "cell_type": "code",
   "execution_count": 5,
   "id": "b3dcdee4",
   "metadata": {},
   "outputs": [],
   "source": [
    "y_train = to_categorical(y_train, 43)\n",
    "y_test = to_categorical(y_test, 43)"
   ]
  },
  {
   "cell_type": "markdown",
   "id": "timely-conservative",
   "metadata": {
    "papermill": {
     "duration": 0.019984,
     "end_time": "2021-04-29T06:33:08.861806",
     "exception": false,
     "start_time": "2021-04-29T06:33:08.841822",
     "status": "completed"
    },
    "tags": []
   },
   "source": [
    "# Build Network Structure\n",
    "### Activation - relu\n",
    "### Dropout - .25"
   ]
  },
  {
   "cell_type": "code",
   "execution_count": 6,
   "id": "owned-cherry",
   "metadata": {
    "execution": {
     "iopub.execute_input": "2021-04-29T06:33:08.913963Z",
     "iopub.status.busy": "2021-04-29T06:33:08.913222Z",
     "iopub.status.idle": "2021-04-29T06:33:09.086120Z",
     "shell.execute_reply": "2021-04-29T06:33:09.085472Z"
    },
    "papermill": {
     "duration": 0.204155,
     "end_time": "2021-04-29T06:33:09.086283",
     "exception": false,
     "start_time": "2021-04-29T06:33:08.882128",
     "status": "completed"
    },
    "tags": []
   },
   "outputs": [],
   "source": [
    "model = Sequential()\n",
    "\n",
    "model.add(Conv2D(filters = 32, kernel_size = (5,5), activation ='relu', data_shape = (30,30,3)))\n",
    "model.add(MaxPool2D(pool_size = (2,2)))\n",
    "model.add(Dropout(rate = 0.25))\n",
    "\n",
    "model.add(Conv2D(filters = 64, kernel_size = (3,3), activation ='relu'))\n",
    "model.add(MaxPool2D(pool_size = (2,2)))\n",
    "model.add(Dropout(rate = 0.25))\n",
    "\n",
    "model.add(Flatten())\n",
    "model.add(Dense(128, activation = 'relu'))\n",
    "model.add(Dropout(rate = 0.5))\n",
    "model.add(Dense(43, activation= 'softmax'))\n",
    "\n",
    "model.compile(loss = 'categorical_crossentropy', optimizer ='adam', metrics =['accuracy'])"
   ]
  },
  {
   "cell_type": "markdown",
   "id": "d3581d43",
   "metadata": {},
   "source": [
    "## Review the Network Structure"
   ]
  },
  {
   "cell_type": "code",
   "execution_count": 7,
   "id": "broken-psychiatry",
   "metadata": {
    "execution": {
     "iopub.execute_input": "2021-04-29T06:33:09.135181Z",
     "iopub.status.busy": "2021-04-29T06:33:09.133949Z",
     "iopub.status.idle": "2021-04-29T06:33:09.144116Z",
     "shell.execute_reply": "2021-04-29T06:33:09.143373Z"
    },
    "papermill": {
     "duration": 0.036977,
     "end_time": "2021-04-29T06:33:09.144307",
     "exception": false,
     "start_time": "2021-04-29T06:33:09.107330",
     "status": "completed"
    },
    "tags": []
   },
   "outputs": [
    {
     "name": "stdout",
     "output_type": "stream",
     "text": [
      "Model: \"sequential\"\n",
      "_________________________________________________________________\n",
      "Layer (type)                 Output Shape              Param #   \n",
      "=================================================================\n",
      "conv2d (Conv2D)              (None, 26, 26, 32)        2432      \n",
      "_________________________________________________________________\n",
      "max_pooling2d (MaxPooling2D) (None, 13, 13, 32)        0         \n",
      "_________________________________________________________________\n",
      "dropout (Dropout)            (None, 13, 13, 32)        0         \n",
      "_________________________________________________________________\n",
      "conv2d_1 (Conv2D)            (None, 11, 11, 64)        18496     \n",
      "_________________________________________________________________\n",
      "max_pooling2d_1 (MaxPooling2 (None, 5, 5, 64)          0         \n",
      "_________________________________________________________________\n",
      "dropout_1 (Dropout)          (None, 5, 5, 64)          0         \n",
      "_________________________________________________________________\n",
      "flatten (Flatten)            (None, 1600)              0         \n",
      "_________________________________________________________________\n",
      "dense (Dense)                (None, 128)               204928    \n",
      "_________________________________________________________________\n",
      "dropout_2 (Dropout)          (None, 128)               0         \n",
      "_________________________________________________________________\n",
      "dense_1 (Dense)              (None, 43)                5547      \n",
      "=================================================================\n",
      "Total params: 231,403\n",
      "Trainable params: 231,403\n",
      "Non-trainable params: 0\n",
      "_________________________________________________________________\n"
     ]
    }
   ],
   "source": [
    "model.summary()"
   ]
  },
  {
   "cell_type": "markdown",
   "id": "f5df8d1f",
   "metadata": {},
   "source": [
    "## Fit Model on Training"
   ]
  },
  {
   "cell_type": "code",
   "execution_count": 8,
   "id": "aging-admission",
   "metadata": {
    "execution": {
     "iopub.execute_input": "2021-04-29T06:33:19.063791Z",
     "iopub.status.busy": "2021-04-29T06:33:19.063002Z",
     "iopub.status.idle": "2021-04-29T06:51:59.981534Z",
     "shell.execute_reply": "2021-04-29T06:51:59.980806Z"
    },
    "papermill": {
     "duration": 1120.950543,
     "end_time": "2021-04-29T06:51:59.981717",
     "exception": false,
     "start_time": "2021-04-29T06:33:19.031174",
     "status": "completed"
    },
    "tags": []
   },
   "outputs": [
    {
     "name": "stdout",
     "output_type": "stream",
     "text": [
      "Epoch 1/20\n",
      "491/491 [==============================] - 9s 17ms/step - loss: 6.9401 - accuracy: 0.0588 - val_loss: 2.9314 - val_accuracy: 0.2266\n",
      "Epoch 2/20\n",
      "491/491 [==============================] - 8s 16ms/step - loss: 2.9512 - accuracy: 0.1950 - val_loss: 2.1669 - val_accuracy: 0.3874\n",
      "Epoch 3/20\n",
      "491/491 [==============================] - 8s 16ms/step - loss: 2.4758 - accuracy: 0.2620 - val_loss: 1.6497 - val_accuracy: 0.4749\n",
      "Epoch 4/20\n",
      "491/491 [==============================] - 8s 17ms/step - loss: 2.1998 - accuracy: 0.3143 - val_loss: 1.5598 - val_accuracy: 0.5167\n",
      "Epoch 5/20\n",
      "491/491 [==============================] - 8s 16ms/step - loss: 2.0352 - accuracy: 0.3610 - val_loss: 1.2974 - val_accuracy: 0.5622\n",
      "Epoch 6/20\n",
      "491/491 [==============================] - 8s 17ms/step - loss: 1.8165 - accuracy: 0.4172 - val_loss: 1.1114 - val_accuracy: 0.6164\n",
      "Epoch 7/20\n",
      "491/491 [==============================] - 8s 17ms/step - loss: 1.6219 - accuracy: 0.4756 - val_loss: 0.9082 - val_accuracy: 0.7015\n",
      "Epoch 8/20\n",
      "491/491 [==============================] - 8s 17ms/step - loss: 1.3874 - accuracy: 0.5535 - val_loss: 0.6560 - val_accuracy: 0.8120\n",
      "Epoch 9/20\n",
      "491/491 [==============================] - 8s 17ms/step - loss: 1.1827 - accuracy: 0.6185 - val_loss: 0.4565 - val_accuracy: 0.8614\n",
      "Epoch 10/20\n",
      "491/491 [==============================] - 8s 17ms/step - loss: 0.9831 - accuracy: 0.6756 - val_loss: 0.3874 - val_accuracy: 0.9046\n",
      "Epoch 11/20\n",
      "491/491 [==============================] - 8s 16ms/step - loss: 0.8638 - accuracy: 0.7148 - val_loss: 0.2915 - val_accuracy: 0.9342\n",
      "Epoch 12/20\n",
      "491/491 [==============================] - 8s 17ms/step - loss: 0.7946 - accuracy: 0.7441 - val_loss: 0.2702 - val_accuracy: 0.9292\n",
      "Epoch 13/20\n",
      "491/491 [==============================] - 8s 17ms/step - loss: 0.7161 - accuracy: 0.7687 - val_loss: 0.2489 - val_accuracy: 0.9455\n",
      "Epoch 14/20\n",
      "491/491 [==============================] - 8s 17ms/step - loss: 0.6846 - accuracy: 0.7839 - val_loss: 0.1878 - val_accuracy: 0.9611\n",
      "Epoch 15/20\n",
      "491/491 [==============================] - 8s 17ms/step - loss: 0.6499 - accuracy: 0.7977 - val_loss: 0.1474 - val_accuracy: 0.9672\n",
      "Epoch 16/20\n",
      "491/491 [==============================] - 8s 17ms/step - loss: 0.5763 - accuracy: 0.8207 - val_loss: 0.1670 - val_accuracy: 0.9529\n",
      "Epoch 17/20\n",
      "491/491 [==============================] - 8s 16ms/step - loss: 0.5270 - accuracy: 0.8363 - val_loss: 0.1250 - val_accuracy: 0.9719\n",
      "Epoch 18/20\n",
      "491/491 [==============================] - 8s 16ms/step - loss: 0.4819 - accuracy: 0.8526 - val_loss: 0.1232 - val_accuracy: 0.9719\n",
      "Epoch 19/20\n",
      "491/491 [==============================] - 8s 16ms/step - loss: 0.5006 - accuracy: 0.8457 - val_loss: 0.1042 - val_accuracy: 0.9776\n",
      "Epoch 20/20\n",
      "491/491 [==============================] - 8s 16ms/step - loss: 0.4663 - accuracy: 0.8585 - val_loss: 0.1245 - val_accuracy: 0.9681\n"
     ]
    }
   ],
   "source": [
    "history = model.fit(X_train, y_train, \n",
    "                   batch_size = 64,\n",
    "                   epochs = 20,\n",
    "                   validation_data = (X_test, y_test))"
   ]
  },
  {
   "cell_type": "markdown",
   "id": "common-sewing",
   "metadata": {
    "papermill": {
     "duration": 2.160066,
     "end_time": "2021-04-29T06:52:04.266799",
     "exception": false,
     "start_time": "2021-04-29T06:52:02.106733",
     "status": "completed"
    },
    "tags": []
   },
   "source": [
    "# Evaluate by looking at plots"
   ]
  },
  {
   "cell_type": "code",
   "execution_count": 9,
   "id": "alleged-perry",
   "metadata": {
    "execution": {
     "iopub.execute_input": "2021-04-29T06:52:08.671417Z",
     "iopub.status.busy": "2021-04-29T06:52:08.670694Z",
     "iopub.status.idle": "2021-04-29T06:52:08.864661Z",
     "shell.execute_reply": "2021-04-29T06:52:08.864028Z"
    },
    "papermill": {
     "duration": 2.319618,
     "end_time": "2021-04-29T06:52:08.864800",
     "exception": false,
     "start_time": "2021-04-29T06:52:06.545182",
     "status": "completed"
    },
    "tags": []
   },
   "outputs": [
    {
     "data": {
      "text/plain": [
       "<matplotlib.legend.Legend at 0x7ff41888b4c0>"
      ]
     },
     "execution_count": 9,
     "metadata": {},
     "output_type": "execute_result"
    },
    {
     "data": {
      "image/png": "[encoded data removed]",
      "text/plain": [
       "<Figure size 432x288 with 1 Axes>"
      ]
     },
     "metadata": {
      "needs_background": "light"
     },
     "output_type": "display_data"
    }
   ],
   "source": [
    "plt.figure(0)\n",
    "plt.plot(history.history['accuracy'], label= 'train accuracy')\n",
    "plt.plot(history.history['val_accuracy'], label= 'test accuracy')\n",
    "plt.title('Accuracy')\n",
    "plt.xlabel('epochs')\n",
    "plt.ylabel('Accuracy')\n",
    "plt.legend()"
   ]
  },
  {
   "cell_type": "code",
   "execution_count": 10,
   "id": "silver-subject",
   "metadata": {
    "execution": {
     "iopub.execute_input": "2021-04-29T06:52:13.241576Z",
     "iopub.status.busy": "2021-04-29T06:52:13.240472Z",
     "iopub.status.idle": "2021-04-29T06:52:13.411602Z",
     "shell.execute_reply": "2021-04-29T06:52:13.410863Z"
    },
    "papermill": {
     "duration": 2.407057,
     "end_time": "2021-04-29T06:52:13.411780",
     "exception": false,
     "start_time": "2021-04-29T06:52:11.004723",
     "status": "completed"
    },
    "tags": []
   },
   "outputs": [
    {
     "data": {
      "text/plain": [
       "<matplotlib.legend.Legend at 0x7ff42f790ca0>"
      ]
     },
     "execution_count": 10,
     "metadata": {},
     "output_type": "execute_result"
    },
    {
     "data": {
      "image/png": "[encoded data removed]",
      "text/plain": [
       "<Figure size 432x288 with 1 Axes>"
      ]
     },
     "metadata": {
      "needs_background": "light"
     },
     "output_type": "display_data"
    }
   ],
   "source": [
    "plt.figure(0)\n",
    "plt.plot(history.history['loss'], label= 'train loss')\n",
    "plt.plot(history.history['val_loss'], label= 'test loss')\n",
    "plt.title('Loss')\n",
    "plt.xlabel('epochs')\n",
    "plt.ylabel('Loss')\n",
    "plt.legend()"
   ]
  },
  {
   "cell_type": "markdown",
   "id": "92000fa7",
   "metadata": {},
   "source": [
    "# Make Prediction with Test Dataset"
   ]
  },
  {
   "cell_type": "code",
   "execution_count": 11,
   "id": "b3dcf554",
   "metadata": {},
   "outputs": [],
   "source": [
    "y_test = pd.read_csv('../data/gtsrb-german-traffic-sign/Test.csv')\n",
    "\n",
    "img_test = y_test['Path'].values\n",
    "labels_test = y_test['ClassId'].values\n",
    "\n",
    "\n",
    "test_dir = '../data/gtsrb-german-traffic-sign'\n",
    "data = []\n",
    "\n",
    "\n",
    "for img in img_test:\n",
    "    img_path = os.path.join(test_dir, img)\n",
    "    image = cv2.imread(img_path, -1)\n",
    "    image = cv2.resize(image, (30,30), interpolation = cv2.INTER_NEAREST)\n",
    "    data.append(np.array(image))\n",
    "    \n",
    "X_testing = np.array(data)"
   ]
  },
  {
   "cell_type": "code",
   "execution_count": 13,
   "id": "recreational-genius",
   "metadata": {
    "execution": {
     "iopub.execute_input": "2021-04-29T06:53:35.514458Z",
     "iopub.status.busy": "2021-04-29T06:53:35.513780Z",
     "iopub.status.idle": "2021-04-29T06:53:42.491821Z",
     "shell.execute_reply": "2021-04-29T06:53:42.491193Z"
    },
    "papermill": {
     "duration": 9.195834,
     "end_time": "2021-04-29T06:53:42.492062",
     "exception": false,
     "start_time": "2021-04-29T06:53:33.296228",
     "status": "completed"
    },
    "tags": []
   },
   "outputs": [
    {
     "name": "stdout",
     "output_type": "stream",
     "text": [
      "Test accuracy:  89.02612826603325\n"
     ]
    }
   ],
   "source": [
    "pred = model.predict_classes(X_testing)\n",
    "\n",
    "print(\"Test accuracy: \", accuracy_score(labels_test, pred) * 100 )"
   ]
  },
  {
   "cell_type": "code",
   "execution_count": null,
   "id": "drawn-heath",
   "metadata": {
    "papermill": {
     "duration": 2.265446,
     "end_time": "2021-04-29T06:53:51.349474",
     "exception": false,
     "start_time": "2021-04-29T06:53:49.084028",
     "status": "completed"
    },
    "tags": []
   },
   "outputs": [],
   "source": []
  }
 ],
 "metadata": {
  "kernelspec": {
   "display_name": "Python 3",
   "language": "python",
   "name": "python3"
  },
  "language_info": {
   "codemirror_mode": {
    "name": "ipython",
    "version": 3
   },
   "file_extension": ".py",
   "mimetype": "text/x-python",
   "name": "python",
   "nbconvert_exporter": "python",
   "pygments_lexer": "ipython3",
   "version": "3.8.8"
  },
  "papermill": {
   "default_parameters": {},
   "duration": 1438.314533,
   "end_time": "2021-04-29T06:53:54.958839",
   "environment_variables": {},
   "exception": null,
   "input_path": "__notebook__.ipynb",
   "output_path": "__notebook__.ipynb",
   "parameters": {},
   "start_time": "2021-04-29T06:29:56.644306",
   "version": "2.3.3"
  }
 },
 "nbformat": 4,
 "nbformat_minor": 5
}
