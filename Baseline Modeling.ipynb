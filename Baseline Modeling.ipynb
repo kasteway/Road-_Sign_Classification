{
 "cells": [
  {
   "cell_type": "code",
   "execution_count": 1,
   "id": "d445ca2d",
   "metadata": {},
   "outputs": [],
   "source": [
    "import numpy as np \n",
    "import pandas as pd \n",
    "from PIL import Image\n",
    "from skimage.io import imread\n",
    "import cv2\n",
    "\n",
    "from sklearn.model_selection import train_test_split\n",
    "from sklearn import preprocessing\n",
    "from sklearn import metrics\n",
    "from sklearn.metrics import classification_report\n",
    "from sklearn.linear_model import LogisticRegression\n",
    "from sklearn import svm\n",
    "from sklearn.neighbors import KNeighborsClassifier\n",
    "from sklearn.ensemble import RandomForestClassifier\n",
    "\n",
    "\n",
    "import matplotlib.pyplot as plt\n",
    "import seaborn as sns\n"
   ]
  },
  {
   "cell_type": "code",
   "execution_count": null,
   "id": "657a3a72",
   "metadata": {},
   "outputs": [],
   "source": []
  },
  {
   "cell_type": "markdown",
   "id": "b3267ce7",
   "metadata": {},
   "source": [
    "# Load The Training Data"
   ]
  },
  {
   "cell_type": "code",
   "execution_count": 2,
   "id": "f7cab125",
   "metadata": {},
   "outputs": [
    {
     "data": {
      "text/html": [
       "<div>\n",
       "<style scoped>\n",
       "    .dataframe tbody tr th:only-of-type {\n",
       "        vertical-align: middle;\n",
       "    }\n",
       "\n",
       "    .dataframe tbody tr th {\n",
       "        vertical-align: top;\n",
       "    }\n",
       "\n",
       "    .dataframe thead th {\n",
       "        text-align: right;\n",
       "    }\n",
       "</style>\n",
       "<table border=\"1\" class=\"dataframe\">\n",
       "  <thead>\n",
       "    <tr style=\"text-align: right;\">\n",
       "      <th></th>\n",
       "      <th>Width</th>\n",
       "      <th>Height</th>\n",
       "      <th>Roi.X1</th>\n",
       "      <th>Roi.Y1</th>\n",
       "      <th>Roi.X2</th>\n",
       "      <th>Roi.Y2</th>\n",
       "      <th>ClassId</th>\n",
       "      <th>Path</th>\n",
       "    </tr>\n",
       "  </thead>\n",
       "  <tbody>\n",
       "    <tr>\n",
       "      <th>0</th>\n",
       "      <td>27</td>\n",
       "      <td>26</td>\n",
       "      <td>5</td>\n",
       "      <td>5</td>\n",
       "      <td>22</td>\n",
       "      <td>20</td>\n",
       "      <td>20</td>\n",
       "      <td>Train/20/00020_00000_00000.png</td>\n",
       "    </tr>\n",
       "    <tr>\n",
       "      <th>1</th>\n",
       "      <td>28</td>\n",
       "      <td>27</td>\n",
       "      <td>5</td>\n",
       "      <td>6</td>\n",
       "      <td>23</td>\n",
       "      <td>22</td>\n",
       "      <td>20</td>\n",
       "      <td>Train/20/00020_00000_00001.png</td>\n",
       "    </tr>\n",
       "    <tr>\n",
       "      <th>2</th>\n",
       "      <td>29</td>\n",
       "      <td>26</td>\n",
       "      <td>6</td>\n",
       "      <td>5</td>\n",
       "      <td>24</td>\n",
       "      <td>21</td>\n",
       "      <td>20</td>\n",
       "      <td>Train/20/00020_00000_00002.png</td>\n",
       "    </tr>\n",
       "    <tr>\n",
       "      <th>3</th>\n",
       "      <td>28</td>\n",
       "      <td>27</td>\n",
       "      <td>5</td>\n",
       "      <td>6</td>\n",
       "      <td>23</td>\n",
       "      <td>22</td>\n",
       "      <td>20</td>\n",
       "      <td>Train/20/00020_00000_00003.png</td>\n",
       "    </tr>\n",
       "    <tr>\n",
       "      <th>4</th>\n",
       "      <td>28</td>\n",
       "      <td>26</td>\n",
       "      <td>5</td>\n",
       "      <td>5</td>\n",
       "      <td>23</td>\n",
       "      <td>21</td>\n",
       "      <td>20</td>\n",
       "      <td>Train/20/00020_00000_00004.png</td>\n",
       "    </tr>\n",
       "  </tbody>\n",
       "</table>\n",
       "</div>"
      ],
      "text/plain": [
       "   Width  Height  Roi.X1  Roi.Y1  Roi.X2  Roi.Y2  ClassId  \\\n",
       "0     27      26       5       5      22      20       20   \n",
       "1     28      27       5       6      23      22       20   \n",
       "2     29      26       6       5      24      21       20   \n",
       "3     28      27       5       6      23      22       20   \n",
       "4     28      26       5       5      23      21       20   \n",
       "\n",
       "                             Path  \n",
       "0  Train/20/00020_00000_00000.png  \n",
       "1  Train/20/00020_00000_00001.png  \n",
       "2  Train/20/00020_00000_00002.png  \n",
       "3  Train/20/00020_00000_00003.png  \n",
       "4  Train/20/00020_00000_00004.png  "
      ]
     },
     "execution_count": 2,
     "metadata": {},
     "output_type": "execute_result"
    }
   ],
   "source": [
    "train = pd.read_csv('../data/gtsrb-german-traffic-sign/Train.csv')\n",
    "train.head()"
   ]
  },
  {
   "cell_type": "code",
   "execution_count": null,
   "id": "d5cabf39",
   "metadata": {},
   "outputs": [],
   "source": []
  },
  {
   "cell_type": "markdown",
   "id": "3a1b27af",
   "metadata": {},
   "source": [
    "# Load The Test Data"
   ]
  },
  {
   "cell_type": "code",
   "execution_count": 3,
   "id": "10b8ffe9",
   "metadata": {},
   "outputs": [
    {
     "data": {
      "text/html": [
       "<div>\n",
       "<style scoped>\n",
       "    .dataframe tbody tr th:only-of-type {\n",
       "        vertical-align: middle;\n",
       "    }\n",
       "\n",
       "    .dataframe tbody tr th {\n",
       "        vertical-align: top;\n",
       "    }\n",
       "\n",
       "    .dataframe thead th {\n",
       "        text-align: right;\n",
       "    }\n",
       "</style>\n",
       "<table border=\"1\" class=\"dataframe\">\n",
       "  <thead>\n",
       "    <tr style=\"text-align: right;\">\n",
       "      <th></th>\n",
       "      <th>Width</th>\n",
       "      <th>Height</th>\n",
       "      <th>Roi.X1</th>\n",
       "      <th>Roi.Y1</th>\n",
       "      <th>Roi.X2</th>\n",
       "      <th>Roi.Y2</th>\n",
       "      <th>ClassId</th>\n",
       "      <th>Path</th>\n",
       "    </tr>\n",
       "  </thead>\n",
       "  <tbody>\n",
       "    <tr>\n",
       "      <th>0</th>\n",
       "      <td>53</td>\n",
       "      <td>54</td>\n",
       "      <td>6</td>\n",
       "      <td>5</td>\n",
       "      <td>48</td>\n",
       "      <td>49</td>\n",
       "      <td>16</td>\n",
       "      <td>Test/00000.png</td>\n",
       "    </tr>\n",
       "    <tr>\n",
       "      <th>1</th>\n",
       "      <td>42</td>\n",
       "      <td>45</td>\n",
       "      <td>5</td>\n",
       "      <td>5</td>\n",
       "      <td>36</td>\n",
       "      <td>40</td>\n",
       "      <td>1</td>\n",
       "      <td>Test/00001.png</td>\n",
       "    </tr>\n",
       "    <tr>\n",
       "      <th>2</th>\n",
       "      <td>48</td>\n",
       "      <td>52</td>\n",
       "      <td>6</td>\n",
       "      <td>6</td>\n",
       "      <td>43</td>\n",
       "      <td>47</td>\n",
       "      <td>38</td>\n",
       "      <td>Test/00002.png</td>\n",
       "    </tr>\n",
       "    <tr>\n",
       "      <th>3</th>\n",
       "      <td>27</td>\n",
       "      <td>29</td>\n",
       "      <td>5</td>\n",
       "      <td>5</td>\n",
       "      <td>22</td>\n",
       "      <td>24</td>\n",
       "      <td>33</td>\n",
       "      <td>Test/00003.png</td>\n",
       "    </tr>\n",
       "    <tr>\n",
       "      <th>4</th>\n",
       "      <td>60</td>\n",
       "      <td>57</td>\n",
       "      <td>5</td>\n",
       "      <td>5</td>\n",
       "      <td>55</td>\n",
       "      <td>52</td>\n",
       "      <td>11</td>\n",
       "      <td>Test/00004.png</td>\n",
       "    </tr>\n",
       "  </tbody>\n",
       "</table>\n",
       "</div>"
      ],
      "text/plain": [
       "   Width  Height  Roi.X1  Roi.Y1  Roi.X2  Roi.Y2  ClassId            Path\n",
       "0     53      54       6       5      48      49       16  Test/00000.png\n",
       "1     42      45       5       5      36      40        1  Test/00001.png\n",
       "2     48      52       6       6      43      47       38  Test/00002.png\n",
       "3     27      29       5       5      22      24       33  Test/00003.png\n",
       "4     60      57       5       5      55      52       11  Test/00004.png"
      ]
     },
     "execution_count": 3,
     "metadata": {},
     "output_type": "execute_result"
    }
   ],
   "source": [
    "test = pd.read_csv('../data/gtsrb-german-traffic-sign/Test.csv')\n",
    "test.head()"
   ]
  },
  {
   "cell_type": "code",
   "execution_count": null,
   "id": "22bb7b57",
   "metadata": {},
   "outputs": [],
   "source": []
  },
  {
   "cell_type": "markdown",
   "id": "806eb3ef",
   "metadata": {},
   "source": [
    "# Attach Training images with classes"
   ]
  },
  {
   "cell_type": "code",
   "execution_count": 4,
   "id": "5e3b7f7e",
   "metadata": {},
   "outputs": [],
   "source": [
    "train_x=[]\n",
    "\n",
    "directory ='../data/gtsrb-german-traffic-sign/'\n",
    "\n",
    "for i in train['Path']:\n",
    "    try:\n",
    "        \n",
    "        img = Image.fromarray(cv2.imread(directory + i), 'RGB')\n",
    "        train_x.append(np.array(img.resize((32, 32))))\n",
    "              \n",
    "    except AttributeError:\n",
    "        print(\"Error in loading image\")\n",
    "        \n"
   ]
  },
  {
   "cell_type": "code",
   "execution_count": 5,
   "id": "005c510e",
   "metadata": {},
   "outputs": [
    {
     "data": {
      "text/plain": [
       "(39209, 32, 32, 3)"
      ]
     },
     "execution_count": 5,
     "metadata": {},
     "output_type": "execute_result"
    }
   ],
   "source": [
    "train_x = np.array(train_x)\n",
    "train_x.shape"
   ]
  },
  {
   "cell_type": "code",
   "execution_count": 6,
   "id": "98aeae0e",
   "metadata": {},
   "outputs": [
    {
     "data": {
      "text/plain": [
       "(39209,)"
      ]
     },
     "execution_count": 6,
     "metadata": {},
     "output_type": "execute_result"
    }
   ],
   "source": [
    "train_y = np.array(train['ClassId'].values)\n",
    "train_y.shape"
   ]
  },
  {
   "cell_type": "code",
   "execution_count": null,
   "id": "97b8bd11",
   "metadata": {},
   "outputs": [],
   "source": []
  },
  {
   "cell_type": "markdown",
   "id": "6bcc5ade",
   "metadata": {},
   "source": [
    "# Number of images per class in train data"
   ]
  },
  {
   "cell_type": "code",
   "execution_count": 7,
   "id": "d2925e5d",
   "metadata": {},
   "outputs": [
    {
     "data": {
      "image/png": "[encoded data removed]",
      "text/plain": [
       "<Figure size 432x288 with 1 Axes>"
      ]
     },
     "metadata": {
      "needs_background": "light"
     },
     "output_type": "display_data"
    }
   ],
   "source": [
    "unique_class, counts_class = np.unique(train_y, return_counts=True)\n",
    "\n",
    "fig = plt.figure()\n",
    "ax = fig.add_axes([0,0,1.5,1.5])\n",
    "\n",
    "ax.bar(unique_class,counts_class)\n",
    "\n",
    "ax.set_xlabel('Classes', fontsize='large')\n",
    "ax.set_ylabel('Count', fontsize='large')\n",
    "\n",
    "ax.set_title(' Class Totals', fontsize='large', pad=5)\n",
    "\n",
    "\n",
    "plt.show()"
   ]
  },
  {
   "cell_type": "code",
   "execution_count": null,
   "id": "c73b84a7",
   "metadata": {},
   "outputs": [],
   "source": []
  },
  {
   "cell_type": "markdown",
   "id": "8a8e26db",
   "metadata": {},
   "source": [
    "# Attach Test images with classes"
   ]
  },
  {
   "cell_type": "code",
   "execution_count": 8,
   "id": "6cfd2f35",
   "metadata": {},
   "outputs": [],
   "source": [
    "test_x = []\n",
    "\n",
    "directory = '../data/gtsrb-german-traffic-sign/'\n",
    "\n",
    "for i in test['Path']:\n",
    "    try:\n",
    "        img = Image.fromarray(cv2.imread(directory + i), 'RGB')\n",
    "        test_x.append(np.array(img.resize((32, 32))))\n",
    "        \n",
    "    except AttributeError:\n",
    "        print(\"Error in loading image\")\n"
   ]
  },
  {
   "cell_type": "code",
   "execution_count": 9,
   "id": "d4317709",
   "metadata": {},
   "outputs": [
    {
     "data": {
      "text/plain": [
       "(12630, 32, 32, 3)"
      ]
     },
     "execution_count": 9,
     "metadata": {},
     "output_type": "execute_result"
    }
   ],
   "source": [
    "test_x = np.array(test_x)\n",
    "test_x.shape"
   ]
  },
  {
   "cell_type": "code",
   "execution_count": 10,
   "id": "08f7bef8",
   "metadata": {},
   "outputs": [
    {
     "data": {
      "text/plain": [
       "(12630,)"
      ]
     },
     "execution_count": 10,
     "metadata": {},
     "output_type": "execute_result"
    }
   ],
   "source": [
    "test_y = np.array(test['ClassId'].values)\n",
    "test_y.shape"
   ]
  },
  {
   "cell_type": "markdown",
   "id": "9b6b1fc3",
   "metadata": {},
   "source": [
    "# Resize"
   ]
  },
  {
   "cell_type": "code",
   "execution_count": 11,
   "id": "d6acc878",
   "metadata": {},
   "outputs": [],
   "source": [
    "train_x.resize(39209,3072)\n",
    "test_x.resize(12630,3072)"
   ]
  },
  {
   "cell_type": "markdown",
   "id": "c31ce3ea",
   "metadata": {},
   "source": [
    "# Normalize"
   ]
  },
  {
   "cell_type": "code",
   "execution_count": 12,
   "id": "e6978011",
   "metadata": {},
   "outputs": [],
   "source": [
    "train_x = preprocessing.scale(train_x)\n",
    "test_x = preprocessing.scale(test_x)"
   ]
  },
  {
   "cell_type": "code",
   "execution_count": null,
   "id": "0b12e233",
   "metadata": {},
   "outputs": [],
   "source": []
  },
  {
   "cell_type": "markdown",
   "id": "f2364c2a",
   "metadata": {},
   "source": [
    "# Model Compare Scores DataFrame"
   ]
  },
  {
   "cell_type": "code",
   "execution_count": 13,
   "id": "85485ff1",
   "metadata": {},
   "outputs": [],
   "source": [
    "df_scores  = pd.DataFrame(columns = ['Model', 'Score', 'Value'])\n",
    "df_model = pd.DataFrame(columns = ['Model','Accuracy (%)'])"
   ]
  },
  {
   "cell_type": "code",
   "execution_count": null,
   "id": "6f620f16",
   "metadata": {},
   "outputs": [],
   "source": []
  },
  {
   "cell_type": "markdown",
   "id": "d6d0cde9",
   "metadata": {},
   "source": [
    "## KNeighbors Classifier"
   ]
  },
  {
   "cell_type": "code",
   "execution_count": 14,
   "id": "8e2545f0",
   "metadata": {},
   "outputs": [
    {
     "data": {
      "text/plain": [
       "KNeighborsClassifier()"
      ]
     },
     "execution_count": 14,
     "metadata": {},
     "output_type": "execute_result"
    }
   ],
   "source": [
    "model = KNeighborsClassifier()\n",
    "model.fit(train_x, train_y)"
   ]
  },
  {
   "cell_type": "code",
   "execution_count": 15,
   "id": "779f9f25",
   "metadata": {},
   "outputs": [],
   "source": [
    "y_pred = model.predict(test_x)"
   ]
  },
  {
   "cell_type": "code",
   "execution_count": 16,
   "id": "9a2c1a4d",
   "metadata": {},
   "outputs": [
    {
     "name": "stdout",
     "output_type": "stream",
     "text": [
      "              precision    recall  f1-score   support\n",
      "\n",
      "           0       0.26      0.40      0.31        60\n",
      "           1       0.34      0.35      0.34       720\n",
      "           2       0.28      0.26      0.27       750\n",
      "           3       0.12      0.17      0.14       450\n",
      "           4       0.31      0.34      0.32       660\n",
      "           5       0.18      0.33      0.23       630\n",
      "           6       0.49      0.35      0.41       150\n",
      "           7       0.23      0.33      0.27       450\n",
      "           8       0.29      0.32      0.30       450\n",
      "           9       0.51      0.30      0.38       480\n",
      "          10       0.54      0.60      0.57       660\n",
      "          11       0.53      0.30      0.38       420\n",
      "          12       0.70      0.55      0.62       690\n",
      "          13       0.83      0.87      0.85       720\n",
      "          14       0.93      0.32      0.48       270\n",
      "          15       0.36      0.27      0.31       210\n",
      "          16       0.50      0.67      0.57       150\n",
      "          17       0.93      0.67      0.78       360\n",
      "          18       0.25      0.33      0.28       390\n",
      "          19       0.07      0.13      0.10        60\n",
      "          20       0.13      0.23      0.17        90\n",
      "          21       0.09      0.04      0.06        90\n",
      "          22       0.38      0.46      0.42       120\n",
      "          23       0.18      0.17      0.18       150\n",
      "          24       0.00      0.00      0.00        90\n",
      "          25       0.39      0.26      0.31       480\n",
      "          26       0.46      0.43      0.44       180\n",
      "          27       0.00      0.00      0.00        60\n",
      "          28       0.18      0.17      0.18       150\n",
      "          29       0.45      0.33      0.38        90\n",
      "          30       0.11      0.04      0.06       150\n",
      "          31       0.25      0.43      0.32       270\n",
      "          32       0.28      0.50      0.36        60\n",
      "          33       0.74      0.31      0.44       210\n",
      "          34       0.19      0.17      0.18       120\n",
      "          35       0.51      0.38      0.44       390\n",
      "          36       0.33      0.28      0.30       120\n",
      "          37       0.69      0.30      0.42        60\n",
      "          38       0.60      0.61      0.60       690\n",
      "          39       0.93      0.61      0.74        90\n",
      "          40       0.40      0.32      0.36        90\n",
      "          41       0.43      0.35      0.39        60\n",
      "          42       0.31      0.24      0.27        90\n",
      "\n",
      "    accuracy                           0.39     12630\n",
      "   macro avg       0.39      0.34      0.35     12630\n",
      "weighted avg       0.43      0.39      0.40     12630\n",
      "\n"
     ]
    }
   ],
   "source": [
    "print(classification_report(test_y, y_pred))"
   ]
  },
  {
   "cell_type": "code",
   "execution_count": 17,
   "id": "5dabda53",
   "metadata": {},
   "outputs": [
    {
     "name": "stdout",
     "output_type": "stream",
     "text": [
      "0.3929532858273951\n"
     ]
    }
   ],
   "source": [
    "print(metrics.accuracy_score(y_pred, test_y))"
   ]
  },
  {
   "cell_type": "markdown",
   "id": "ec8412e9",
   "metadata": {},
   "source": [
    "# Calculate recall, precision, f1 score and accuracy "
   ]
  },
  {
   "cell_type": "code",
   "execution_count": 18,
   "id": "31bbaf55",
   "metadata": {},
   "outputs": [
    {
     "data": {
      "text/plain": [
       "0.3929532858273951"
      ]
     },
     "execution_count": 18,
     "metadata": {},
     "output_type": "execute_result"
    }
   ],
   "source": [
    "recall_Kneigh = metrics.recall_score(test_y, y_pred, average='macro')\n",
    "df_scores.loc[len(df_scores)] = [\"Kneigh\",\"Recall\", recall_Kneigh]\n",
    "\n",
    "precision_Kneigh = metrics.precision_score(test_y, y_pred, average='macro')\n",
    "df_scores.loc[len(df_scores)] = [\"Kneigh\",\"Precision\", precision_Kneigh]\n",
    "\n",
    "f1_Kneigh = metrics.f1_score(test_y, y_pred, average='macro')\n",
    "df_scores.loc[len(df_scores)] = [\"Kneigh\",\"F1\", f1_Kneigh]\n",
    "\n",
    "acc_Kneigh = metrics.accuracy_score(test_y, y_pred)\n",
    "df_scores.loc[len(df_scores)] = [\"Kneigh\",\"Accuracy\", acc_Kneigh]\n",
    "\n",
    "df_model.loc[len(df_model)] = [\"Kneigh\", acc_Kneigh*100 ]\n",
    "acc_Kneigh"
   ]
  },
  {
   "cell_type": "code",
   "execution_count": 19,
   "id": "5bc0b640",
   "metadata": {},
   "outputs": [
    {
     "data": {
      "text/html": [
       "<div>\n",
       "<style scoped>\n",
       "    .dataframe tbody tr th:only-of-type {\n",
       "        vertical-align: middle;\n",
       "    }\n",
       "\n",
       "    .dataframe tbody tr th {\n",
       "        vertical-align: top;\n",
       "    }\n",
       "\n",
       "    .dataframe thead th {\n",
       "        text-align: right;\n",
       "    }\n",
       "</style>\n",
       "<table border=\"1\" class=\"dataframe\">\n",
       "  <thead>\n",
       "    <tr style=\"text-align: right;\">\n",
       "      <th></th>\n",
       "      <th>Model</th>\n",
       "      <th>Accuracy (%)</th>\n",
       "    </tr>\n",
       "  </thead>\n",
       "  <tbody>\n",
       "    <tr>\n",
       "      <th>0</th>\n",
       "      <td>Kneigh</td>\n",
       "      <td>39.295329</td>\n",
       "    </tr>\n",
       "  </tbody>\n",
       "</table>\n",
       "</div>"
      ],
      "text/plain": [
       "    Model  Accuracy (%)\n",
       "0  Kneigh     39.295329"
      ]
     },
     "execution_count": 19,
     "metadata": {},
     "output_type": "execute_result"
    }
   ],
   "source": [
    "df_model"
   ]
  },
  {
   "cell_type": "code",
   "execution_count": 20,
   "id": "114456ce",
   "metadata": {},
   "outputs": [
    {
     "data": {
      "text/html": [
       "<div>\n",
       "<style scoped>\n",
       "    .dataframe tbody tr th:only-of-type {\n",
       "        vertical-align: middle;\n",
       "    }\n",
       "\n",
       "    .dataframe tbody tr th {\n",
       "        vertical-align: top;\n",
       "    }\n",
       "\n",
       "    .dataframe thead th {\n",
       "        text-align: right;\n",
       "    }\n",
       "</style>\n",
       "<table border=\"1\" class=\"dataframe\">\n",
       "  <thead>\n",
       "    <tr style=\"text-align: right;\">\n",
       "      <th></th>\n",
       "      <th>Model</th>\n",
       "      <th>Score</th>\n",
       "      <th>Value</th>\n",
       "    </tr>\n",
       "  </thead>\n",
       "  <tbody>\n",
       "    <tr>\n",
       "      <th>0</th>\n",
       "      <td>Kneigh</td>\n",
       "      <td>Recall</td>\n",
       "      <td>0.337397</td>\n",
       "    </tr>\n",
       "    <tr>\n",
       "      <th>1</th>\n",
       "      <td>Kneigh</td>\n",
       "      <td>Precision</td>\n",
       "      <td>0.387503</td>\n",
       "    </tr>\n",
       "    <tr>\n",
       "      <th>2</th>\n",
       "      <td>Kneigh</td>\n",
       "      <td>F1</td>\n",
       "      <td>0.346867</td>\n",
       "    </tr>\n",
       "    <tr>\n",
       "      <th>3</th>\n",
       "      <td>Kneigh</td>\n",
       "      <td>Accuracy</td>\n",
       "      <td>0.392953</td>\n",
       "    </tr>\n",
       "  </tbody>\n",
       "</table>\n",
       "</div>"
      ],
      "text/plain": [
       "    Model      Score     Value\n",
       "0  Kneigh     Recall  0.337397\n",
       "1  Kneigh  Precision  0.387503\n",
       "2  Kneigh         F1  0.346867\n",
       "3  Kneigh   Accuracy  0.392953"
      ]
     },
     "execution_count": 20,
     "metadata": {},
     "output_type": "execute_result"
    }
   ],
   "source": [
    "df_scores"
   ]
  },
  {
   "cell_type": "code",
   "execution_count": null,
   "id": "06883119",
   "metadata": {},
   "outputs": [],
   "source": []
  },
  {
   "cell_type": "markdown",
   "id": "f5832b37",
   "metadata": {},
   "source": [
    "## Logistic Regression"
   ]
  },
  {
   "cell_type": "code",
   "execution_count": 21,
   "id": "2f528462",
   "metadata": {},
   "outputs": [
    {
     "name": "stderr",
     "output_type": "stream",
     "text": [
      "/Users/stay_one/opt/anaconda3/lib/python3.8/site-packages/sklearn/linear_model/_logistic.py:763: ConvergenceWarning: lbfgs failed to converge (status=1):\n",
      "STOP: TOTAL NO. of ITERATIONS REACHED LIMIT.\n",
      "\n",
      "Increase the number of iterations (max_iter) or scale the data as shown in:\n",
      "    https://scikit-learn.org/stable/modules/preprocessing.html\n",
      "Please also refer to the documentation for alternative solver options:\n",
      "    https://scikit-learn.org/stable/modules/linear_model.html#logistic-regression\n",
      "  n_iter_i = _check_optimize_result(\n"
     ]
    },
    {
     "data": {
      "text/plain": [
       "LogisticRegression(max_iter=80, multi_class='multinomial')"
      ]
     },
     "execution_count": 21,
     "metadata": {},
     "output_type": "execute_result"
    }
   ],
   "source": [
    "lr = LogisticRegression(multi_class = 'multinomial', solver = 'lbfgs', max_iter = 80)\n",
    "lr.fit(train_x, train_y)"
   ]
  },
  {
   "cell_type": "code",
   "execution_count": 22,
   "id": "69d68896",
   "metadata": {},
   "outputs": [],
   "source": [
    "y_pred_logistic = lr.predict(test_x)"
   ]
  },
  {
   "cell_type": "code",
   "execution_count": 23,
   "id": "b3390a04",
   "metadata": {},
   "outputs": [
    {
     "name": "stdout",
     "output_type": "stream",
     "text": [
      "              precision    recall  f1-score   support\n",
      "\n",
      "           0       0.54      0.50      0.52        60\n",
      "           1       0.74      0.86      0.79       720\n",
      "           2       0.83      0.86      0.84       750\n",
      "           3       0.82      0.78      0.79       450\n",
      "           4       0.84      0.81      0.83       660\n",
      "           5       0.77      0.81      0.79       630\n",
      "           6       0.90      0.63      0.74       150\n",
      "           7       0.84      0.68      0.75       450\n",
      "           8       0.76      0.83      0.79       450\n",
      "           9       0.91      0.91      0.91       480\n",
      "          10       0.90      0.94      0.92       660\n",
      "          11       0.88      0.90      0.89       420\n",
      "          12       0.96      0.96      0.96       690\n",
      "          13       0.97      0.98      0.97       720\n",
      "          14       0.98      0.89      0.93       270\n",
      "          15       0.80      0.76      0.78       210\n",
      "          16       0.83      0.92      0.87       150\n",
      "          17       0.95      0.98      0.97       360\n",
      "          18       0.85      0.71      0.77       390\n",
      "          19       0.54      0.50      0.52        60\n",
      "          20       0.39      0.49      0.43        90\n",
      "          21       0.60      0.48      0.53        90\n",
      "          22       0.94      0.84      0.89       120\n",
      "          23       0.62      0.59      0.60       150\n",
      "          24       0.64      0.31      0.42        90\n",
      "          25       0.87      0.89      0.88       480\n",
      "          26       0.80      0.78      0.79       180\n",
      "          27       0.57      0.45      0.50        60\n",
      "          28       0.91      0.59      0.72       150\n",
      "          29       0.64      0.97      0.77        90\n",
      "          30       0.60      0.45      0.51       150\n",
      "          31       0.73      0.89      0.80       270\n",
      "          32       0.69      0.80      0.74        60\n",
      "          33       0.94      0.97      0.96       210\n",
      "          34       0.89      0.98      0.94       120\n",
      "          35       0.94      0.95      0.95       390\n",
      "          36       0.93      0.96      0.94       120\n",
      "          37       0.89      0.80      0.84        60\n",
      "          38       0.93      0.97      0.95       690\n",
      "          39       0.95      0.84      0.89        90\n",
      "          40       0.80      0.71      0.75        90\n",
      "          41       0.55      0.68      0.61        60\n",
      "          42       0.82      0.72      0.77        90\n",
      "\n",
      "    accuracy                           0.84     12630\n",
      "   macro avg       0.80      0.78      0.78     12630\n",
      "weighted avg       0.85      0.84      0.84     12630\n",
      "\n"
     ]
    }
   ],
   "source": [
    "print(classification_report(test_y, y_pred_logistic))"
   ]
  },
  {
   "cell_type": "code",
   "execution_count": 24,
   "id": "fbe5f8fd",
   "metadata": {},
   "outputs": [
    {
     "name": "stdout",
     "output_type": "stream",
     "text": [
      "0.8444180522565321\n"
     ]
    }
   ],
   "source": [
    "print(metrics.accuracy_score(y_pred_logistic, test_y))"
   ]
  },
  {
   "cell_type": "markdown",
   "id": "e5f990eb",
   "metadata": {},
   "source": [
    "# Calculate recall, precision, f1 score and accuracy "
   ]
  },
  {
   "cell_type": "code",
   "execution_count": 45,
   "id": "bdfae0bd",
   "metadata": {},
   "outputs": [
    {
     "data": {
      "text/plain": [
       "0.8444180522565321"
      ]
     },
     "execution_count": 45,
     "metadata": {},
     "output_type": "execute_result"
    }
   ],
   "source": [
    "recall_logistic = metrics.recall_score(test_y, y_pred_logistic, average='macro')\n",
    "df_scores.loc[len(df_scores)] = [\"logistic\",\"Recall\", recall_logistic]\n",
    "\n",
    "precision_logistic = metrics.precision_score(test_y, y_pred_logistic, average='macro')\n",
    "df_scores.loc[len(df_scores)] = [\"logistic\",\"Precision\", precision_logistic]\n",
    "\n",
    "f1_logistic = metrics.f1_score(test_y, y_pred_logistic, average='macro')\n",
    "df_scores.loc[len(df_scores)] = [\"logistic\",\"F1\", f1_logistic]\n",
    "\n",
    "acc_logistic = metrics.accuracy_score(test_y, y_pred_logistic)\n",
    "df_scores.loc[len(df_scores)] = [\"logistic\",\"Accuracy\", acc_logistic]\n",
    "\n",
    "df_model.loc[len(df_model)] = [\"logistic\", acc_logistic*100 ]\n",
    "acc_logistic"
   ]
  },
  {
   "cell_type": "code",
   "execution_count": 26,
   "id": "e25beace",
   "metadata": {},
   "outputs": [
    {
     "data": {
      "text/html": [
       "<div>\n",
       "<style scoped>\n",
       "    .dataframe tbody tr th:only-of-type {\n",
       "        vertical-align: middle;\n",
       "    }\n",
       "\n",
       "    .dataframe tbody tr th {\n",
       "        vertical-align: top;\n",
       "    }\n",
       "\n",
       "    .dataframe thead th {\n",
       "        text-align: right;\n",
       "    }\n",
       "</style>\n",
       "<table border=\"1\" class=\"dataframe\">\n",
       "  <thead>\n",
       "    <tr style=\"text-align: right;\">\n",
       "      <th></th>\n",
       "      <th>Model</th>\n",
       "      <th>Accuracy (%)</th>\n",
       "    </tr>\n",
       "  </thead>\n",
       "  <tbody>\n",
       "    <tr>\n",
       "      <th>0</th>\n",
       "      <td>Kneigh</td>\n",
       "      <td>39.295329</td>\n",
       "    </tr>\n",
       "    <tr>\n",
       "      <th>1</th>\n",
       "      <td>logistic</td>\n",
       "      <td>84.441805</td>\n",
       "    </tr>\n",
       "  </tbody>\n",
       "</table>\n",
       "</div>"
      ],
      "text/plain": [
       "      Model  Accuracy (%)\n",
       "0    Kneigh     39.295329\n",
       "1  logistic     84.441805"
      ]
     },
     "execution_count": 26,
     "metadata": {},
     "output_type": "execute_result"
    }
   ],
   "source": [
    "df_model"
   ]
  },
  {
   "cell_type": "code",
   "execution_count": 46,
   "id": "a4f1cd82",
   "metadata": {},
   "outputs": [
    {
     "data": {
      "text/html": [
       "<div>\n",
       "<style scoped>\n",
       "    .dataframe tbody tr th:only-of-type {\n",
       "        vertical-align: middle;\n",
       "    }\n",
       "\n",
       "    .dataframe tbody tr th {\n",
       "        vertical-align: top;\n",
       "    }\n",
       "\n",
       "    .dataframe thead th {\n",
       "        text-align: right;\n",
       "    }\n",
       "</style>\n",
       "<table border=\"1\" class=\"dataframe\">\n",
       "  <thead>\n",
       "    <tr style=\"text-align: right;\">\n",
       "      <th></th>\n",
       "      <th>Model</th>\n",
       "      <th>Score</th>\n",
       "      <th>Value</th>\n",
       "    </tr>\n",
       "  </thead>\n",
       "  <tbody>\n",
       "    <tr>\n",
       "      <th>0</th>\n",
       "      <td>Kneigh</td>\n",
       "      <td>Recall</td>\n",
       "      <td>0.337397</td>\n",
       "    </tr>\n",
       "    <tr>\n",
       "      <th>1</th>\n",
       "      <td>Kneigh</td>\n",
       "      <td>Precision</td>\n",
       "      <td>0.387503</td>\n",
       "    </tr>\n",
       "    <tr>\n",
       "      <th>2</th>\n",
       "      <td>Kneigh</td>\n",
       "      <td>F1</td>\n",
       "      <td>0.346867</td>\n",
       "    </tr>\n",
       "    <tr>\n",
       "      <th>3</th>\n",
       "      <td>Kneigh</td>\n",
       "      <td>Accuracy</td>\n",
       "      <td>0.392953</td>\n",
       "    </tr>\n",
       "    <tr>\n",
       "      <th>4</th>\n",
       "      <td>logistic</td>\n",
       "      <td>Recall</td>\n",
       "      <td>0.337397</td>\n",
       "    </tr>\n",
       "    <tr>\n",
       "      <th>5</th>\n",
       "      <td>logistic</td>\n",
       "      <td>Precision</td>\n",
       "      <td>0.387503</td>\n",
       "    </tr>\n",
       "    <tr>\n",
       "      <th>6</th>\n",
       "      <td>logistic</td>\n",
       "      <td>F1</td>\n",
       "      <td>0.346867</td>\n",
       "    </tr>\n",
       "    <tr>\n",
       "      <th>7</th>\n",
       "      <td>logistic</td>\n",
       "      <td>Accuracy</td>\n",
       "      <td>0.844418</td>\n",
       "    </tr>\n",
       "    <tr>\n",
       "      <th>8</th>\n",
       "      <td>SVM</td>\n",
       "      <td>Recall</td>\n",
       "      <td>0.745271</td>\n",
       "    </tr>\n",
       "    <tr>\n",
       "      <th>9</th>\n",
       "      <td>SVM</td>\n",
       "      <td>Precision</td>\n",
       "      <td>0.783737</td>\n",
       "    </tr>\n",
       "    <tr>\n",
       "      <th>10</th>\n",
       "      <td>SVM</td>\n",
       "      <td>F1</td>\n",
       "      <td>0.753691</td>\n",
       "    </tr>\n",
       "    <tr>\n",
       "      <th>11</th>\n",
       "      <td>SVM</td>\n",
       "      <td>Accuracy</td>\n",
       "      <td>0.825653</td>\n",
       "    </tr>\n",
       "    <tr>\n",
       "      <th>12</th>\n",
       "      <td>RF</td>\n",
       "      <td>Accuracy</td>\n",
       "      <td>0.796675</td>\n",
       "    </tr>\n",
       "    <tr>\n",
       "      <th>13</th>\n",
       "      <td>RF</td>\n",
       "      <td>Recall</td>\n",
       "      <td>0.701531</td>\n",
       "    </tr>\n",
       "    <tr>\n",
       "      <th>14</th>\n",
       "      <td>RF</td>\n",
       "      <td>Precision</td>\n",
       "      <td>0.815159</td>\n",
       "    </tr>\n",
       "    <tr>\n",
       "      <th>15</th>\n",
       "      <td>RF</td>\n",
       "      <td>F1</td>\n",
       "      <td>0.729321</td>\n",
       "    </tr>\n",
       "    <tr>\n",
       "      <th>16</th>\n",
       "      <td>logistic</td>\n",
       "      <td>Recall</td>\n",
       "      <td>0.775034</td>\n",
       "    </tr>\n",
       "    <tr>\n",
       "      <th>17</th>\n",
       "      <td>logistic</td>\n",
       "      <td>Precision</td>\n",
       "      <td>0.796030</td>\n",
       "    </tr>\n",
       "    <tr>\n",
       "      <th>18</th>\n",
       "      <td>logistic</td>\n",
       "      <td>F1</td>\n",
       "      <td>0.779831</td>\n",
       "    </tr>\n",
       "    <tr>\n",
       "      <th>19</th>\n",
       "      <td>logistic</td>\n",
       "      <td>Accuracy</td>\n",
       "      <td>0.844418</td>\n",
       "    </tr>\n",
       "  </tbody>\n",
       "</table>\n",
       "</div>"
      ],
      "text/plain": [
       "       Model      Score     Value\n",
       "0     Kneigh     Recall  0.337397\n",
       "1     Kneigh  Precision  0.387503\n",
       "2     Kneigh         F1  0.346867\n",
       "3     Kneigh   Accuracy  0.392953\n",
       "4   logistic     Recall  0.337397\n",
       "5   logistic  Precision  0.387503\n",
       "6   logistic         F1  0.346867\n",
       "7   logistic   Accuracy  0.844418\n",
       "8        SVM     Recall  0.745271\n",
       "9        SVM  Precision  0.783737\n",
       "10       SVM         F1  0.753691\n",
       "11       SVM   Accuracy  0.825653\n",
       "12        RF   Accuracy  0.796675\n",
       "13        RF     Recall  0.701531\n",
       "14        RF  Precision  0.815159\n",
       "15        RF         F1  0.729321\n",
       "16  logistic     Recall  0.775034\n",
       "17  logistic  Precision  0.796030\n",
       "18  logistic         F1  0.779831\n",
       "19  logistic   Accuracy  0.844418"
      ]
     },
     "execution_count": 46,
     "metadata": {},
     "output_type": "execute_result"
    }
   ],
   "source": [
    "df_scores"
   ]
  },
  {
   "cell_type": "code",
   "execution_count": 48,
   "id": "1b3ae9e6",
   "metadata": {},
   "outputs": [
    {
     "data": {
      "text/html": [
       "<div>\n",
       "<style scoped>\n",
       "    .dataframe tbody tr th:only-of-type {\n",
       "        vertical-align: middle;\n",
       "    }\n",
       "\n",
       "    .dataframe tbody tr th {\n",
       "        vertical-align: top;\n",
       "    }\n",
       "\n",
       "    .dataframe thead th {\n",
       "        text-align: right;\n",
       "    }\n",
       "</style>\n",
       "<table border=\"1\" class=\"dataframe\">\n",
       "  <thead>\n",
       "    <tr style=\"text-align: right;\">\n",
       "      <th></th>\n",
       "      <th>Model</th>\n",
       "      <th>Score</th>\n",
       "      <th>Value</th>\n",
       "    </tr>\n",
       "  </thead>\n",
       "  <tbody>\n",
       "    <tr>\n",
       "      <th>0</th>\n",
       "      <td>Kneigh</td>\n",
       "      <td>Recall</td>\n",
       "      <td>0.337397</td>\n",
       "    </tr>\n",
       "    <tr>\n",
       "      <th>1</th>\n",
       "      <td>Kneigh</td>\n",
       "      <td>Precision</td>\n",
       "      <td>0.387503</td>\n",
       "    </tr>\n",
       "    <tr>\n",
       "      <th>2</th>\n",
       "      <td>Kneigh</td>\n",
       "      <td>F1</td>\n",
       "      <td>0.346867</td>\n",
       "    </tr>\n",
       "    <tr>\n",
       "      <th>3</th>\n",
       "      <td>Kneigh</td>\n",
       "      <td>Accuracy</td>\n",
       "      <td>0.392953</td>\n",
       "    </tr>\n",
       "    <tr>\n",
       "      <th>8</th>\n",
       "      <td>SVM</td>\n",
       "      <td>Recall</td>\n",
       "      <td>0.745271</td>\n",
       "    </tr>\n",
       "    <tr>\n",
       "      <th>9</th>\n",
       "      <td>SVM</td>\n",
       "      <td>Precision</td>\n",
       "      <td>0.783737</td>\n",
       "    </tr>\n",
       "    <tr>\n",
       "      <th>10</th>\n",
       "      <td>SVM</td>\n",
       "      <td>F1</td>\n",
       "      <td>0.753691</td>\n",
       "    </tr>\n",
       "    <tr>\n",
       "      <th>11</th>\n",
       "      <td>SVM</td>\n",
       "      <td>Accuracy</td>\n",
       "      <td>0.825653</td>\n",
       "    </tr>\n",
       "    <tr>\n",
       "      <th>12</th>\n",
       "      <td>RF</td>\n",
       "      <td>Accuracy</td>\n",
       "      <td>0.796675</td>\n",
       "    </tr>\n",
       "    <tr>\n",
       "      <th>13</th>\n",
       "      <td>RF</td>\n",
       "      <td>Recall</td>\n",
       "      <td>0.701531</td>\n",
       "    </tr>\n",
       "    <tr>\n",
       "      <th>14</th>\n",
       "      <td>RF</td>\n",
       "      <td>Precision</td>\n",
       "      <td>0.815159</td>\n",
       "    </tr>\n",
       "    <tr>\n",
       "      <th>15</th>\n",
       "      <td>RF</td>\n",
       "      <td>F1</td>\n",
       "      <td>0.729321</td>\n",
       "    </tr>\n",
       "    <tr>\n",
       "      <th>16</th>\n",
       "      <td>logistic</td>\n",
       "      <td>Recall</td>\n",
       "      <td>0.775034</td>\n",
       "    </tr>\n",
       "    <tr>\n",
       "      <th>17</th>\n",
       "      <td>logistic</td>\n",
       "      <td>Precision</td>\n",
       "      <td>0.796030</td>\n",
       "    </tr>\n",
       "    <tr>\n",
       "      <th>18</th>\n",
       "      <td>logistic</td>\n",
       "      <td>F1</td>\n",
       "      <td>0.779831</td>\n",
       "    </tr>\n",
       "    <tr>\n",
       "      <th>19</th>\n",
       "      <td>logistic</td>\n",
       "      <td>Accuracy</td>\n",
       "      <td>0.844418</td>\n",
       "    </tr>\n",
       "  </tbody>\n",
       "</table>\n",
       "</div>"
      ],
      "text/plain": [
       "       Model      Score     Value\n",
       "0     Kneigh     Recall  0.337397\n",
       "1     Kneigh  Precision  0.387503\n",
       "2     Kneigh         F1  0.346867\n",
       "3     Kneigh   Accuracy  0.392953\n",
       "8        SVM     Recall  0.745271\n",
       "9        SVM  Precision  0.783737\n",
       "10       SVM         F1  0.753691\n",
       "11       SVM   Accuracy  0.825653\n",
       "12        RF   Accuracy  0.796675\n",
       "13        RF     Recall  0.701531\n",
       "14        RF  Precision  0.815159\n",
       "15        RF         F1  0.729321\n",
       "16  logistic     Recall  0.775034\n",
       "17  logistic  Precision  0.796030\n",
       "18  logistic         F1  0.779831\n",
       "19  logistic   Accuracy  0.844418"
      ]
     },
     "execution_count": 48,
     "metadata": {},
     "output_type": "execute_result"
    }
   ],
   "source": [
    "df_scores.drop([4,5,6,7],inplace=True)\n",
    "df_scores"
   ]
  },
  {
   "cell_type": "code",
   "execution_count": null,
   "id": "61a3dd58",
   "metadata": {},
   "outputs": [],
   "source": []
  },
  {
   "cell_type": "markdown",
   "id": "9912a1ca",
   "metadata": {},
   "source": [
    "## Support Vector Machine "
   ]
  },
  {
   "cell_type": "code",
   "execution_count": 28,
   "id": "c957032d",
   "metadata": {},
   "outputs": [
    {
     "data": {
      "text/plain": [
       "NuSVC(gamma=1e-05, nu=0.05, random_state=121)"
      ]
     },
     "execution_count": 28,
     "metadata": {},
     "output_type": "execute_result"
    }
   ],
   "source": [
    "svm = svm.NuSVC(nu=0.05,kernel='rbf',gamma=0.00001,random_state=121)\n",
    "svm.fit(train_x, train_y)"
   ]
  },
  {
   "cell_type": "code",
   "execution_count": 29,
   "id": "32bc8de9",
   "metadata": {},
   "outputs": [],
   "source": [
    "y_pred_svm = svm.predict(test_x)\n"
   ]
  },
  {
   "cell_type": "markdown",
   "id": "bbd97a9f",
   "metadata": {},
   "source": [
    "## Calculating recall, precision, f1 score and accuracy "
   ]
  },
  {
   "cell_type": "code",
   "execution_count": 30,
   "id": "a3c67ec9",
   "metadata": {},
   "outputs": [
    {
     "ename": "NameError",
     "evalue": "name 'time_svm' is not defined",
     "output_type": "error",
     "traceback": [
      "\u001b[0;31m---------------------------------------------------------------------------\u001b[0m",
      "\u001b[0;31mNameError\u001b[0m                                 Traceback (most recent call last)",
      "\u001b[0;32m<ipython-input-30-040f7958e741>\u001b[0m in \u001b[0;36m<module>\u001b[0;34m\u001b[0m\n\u001b[1;32m     13\u001b[0m \u001b[0mdf_scores\u001b[0m\u001b[0;34m.\u001b[0m\u001b[0mloc\u001b[0m\u001b[0;34m[\u001b[0m\u001b[0mlen\u001b[0m\u001b[0;34m(\u001b[0m\u001b[0mdf_scores\u001b[0m\u001b[0;34m)\u001b[0m\u001b[0;34m]\u001b[0m \u001b[0;34m=\u001b[0m \u001b[0;34m[\u001b[0m\u001b[0;34m\"SVM\"\u001b[0m\u001b[0;34m,\u001b[0m\u001b[0;34m\"Accuracy\"\u001b[0m\u001b[0;34m,\u001b[0m\u001b[0macc_svm\u001b[0m\u001b[0;34m]\u001b[0m\u001b[0;34m\u001b[0m\u001b[0;34m\u001b[0m\u001b[0m\n\u001b[1;32m     14\u001b[0m \u001b[0;34m\u001b[0m\u001b[0m\n\u001b[0;32m---> 15\u001b[0;31m \u001b[0mdf_model\u001b[0m\u001b[0;34m.\u001b[0m\u001b[0mloc\u001b[0m\u001b[0;34m[\u001b[0m\u001b[0mlen\u001b[0m\u001b[0;34m(\u001b[0m\u001b[0mdf_model\u001b[0m\u001b[0;34m)\u001b[0m\u001b[0;34m]\u001b[0m \u001b[0;34m=\u001b[0m \u001b[0;34m[\u001b[0m\u001b[0;34m\"SVM\"\u001b[0m\u001b[0;34m,\u001b[0m\u001b[0macc_svm\u001b[0m\u001b[0;34m*\u001b[0m\u001b[0;36m100\u001b[0m\u001b[0;34m,\u001b[0m\u001b[0mtime_svm\u001b[0m\u001b[0;34m]\u001b[0m\u001b[0;34m\u001b[0m\u001b[0;34m\u001b[0m\u001b[0m\n\u001b[0m\u001b[1;32m     16\u001b[0m \u001b[0macc_svm\u001b[0m\u001b[0;34m\u001b[0m\u001b[0;34m\u001b[0m\u001b[0m\n",
      "\u001b[0;31mNameError\u001b[0m: name 'time_svm' is not defined"
     ]
    }
   ],
   "source": [
    "\n",
    "recall_svm = metrics.recall_score(test_y, y_pred_svm,average='macro')\n",
    "df_scores.loc[len(df_scores)] = [\"SVM\",\"Recall\",recall_svm]\n",
    "\n",
    "precision_svm = metrics.precision_score(test_y, y_pred_svm,average='macro')\n",
    "df_scores.loc[len(df_scores)] = [\"SVM\",\"Precision\",precision_svm]\n",
    "\n",
    "f1_svm = metrics.f1_score(test_y, y_pred_svm,average='macro')\n",
    "df_scores.loc[len(df_scores)] = [\"SVM\",\"F1\",f1_svm]\n",
    "\n",
    "acc_svm=metrics.accuracy_score(test_y,y_pred_svm)\n",
    "df_scores.loc[len(df_scores)] = [\"SVM\",\"Accuracy\",acc_svm]\n",
    "\n",
    "df_model.loc[len(df_model)] = [\"SVM\",acc_svm*100]\n",
    "acc_svm"
   ]
  },
  {
   "cell_type": "code",
   "execution_count": 31,
   "id": "c0ca89ba",
   "metadata": {},
   "outputs": [
    {
     "data": {
      "text/plain": [
       "0.8256532066508313"
      ]
     },
     "execution_count": 31,
     "metadata": {},
     "output_type": "execute_result"
    }
   ],
   "source": [
    "#df_model.loc[len(df_model)] = [\"SVM\",acc_svm*100]\n",
    "acc_svm"
   ]
  },
  {
   "cell_type": "code",
   "execution_count": 32,
   "id": "62a85c75",
   "metadata": {},
   "outputs": [
    {
     "name": "stdout",
     "output_type": "stream",
     "text": [
      "Classification report for SVM classifier NuSVC(gamma=1e-05, nu=0.05, random_state=121):\n",
      "              precision    recall  f1-score   support\n",
      "\n",
      "           0       0.88      0.35      0.50        60\n",
      "           1       0.74      0.91      0.82       720\n",
      "           2       0.82      0.91      0.86       750\n",
      "           3       0.69      0.81      0.74       450\n",
      "           4       0.78      0.81      0.79       660\n",
      "           5       0.77      0.84      0.80       630\n",
      "           6       0.67      0.47      0.55       150\n",
      "           7       0.90      0.76      0.82       450\n",
      "           8       0.86      0.85      0.85       450\n",
      "           9       0.93      0.84      0.88       480\n",
      "          10       0.91      0.95      0.93       660\n",
      "          11       0.85      0.91      0.88       420\n",
      "          12       0.92      0.91      0.92       690\n",
      "          13       0.97      0.98      0.97       720\n",
      "          14       0.94      0.88      0.91       270\n",
      "          15       0.86      0.82      0.84       210\n",
      "          16       0.87      0.96      0.91       150\n",
      "          17       0.91      0.76      0.83       360\n",
      "          18       0.82      0.60      0.69       390\n",
      "          19       0.35      0.50      0.41        60\n",
      "          20       0.45      0.54      0.49        90\n",
      "          21       0.59      0.57      0.58        90\n",
      "          22       0.95      0.93      0.94       120\n",
      "          23       0.40      0.38      0.39       150\n",
      "          24       0.50      0.49      0.49        90\n",
      "          25       0.88      0.78      0.82       480\n",
      "          26       0.79      0.79      0.79       180\n",
      "          27       0.51      0.50      0.50        60\n",
      "          28       0.85      0.58      0.69       150\n",
      "          29       0.81      0.97      0.88        90\n",
      "          30       0.63      0.39      0.49       150\n",
      "          31       0.75      0.85      0.80       270\n",
      "          32       0.69      0.60      0.64        60\n",
      "          33       0.90      0.98      0.93       210\n",
      "          34       0.97      0.97      0.97       120\n",
      "          35       0.93      0.84      0.88       390\n",
      "          36       0.98      0.80      0.88       120\n",
      "          37       0.98      0.68      0.80        60\n",
      "          38       0.91      0.93      0.92       690\n",
      "          39       0.97      0.67      0.79        90\n",
      "          40       0.90      0.50      0.64        90\n",
      "          41       0.35      0.70      0.47        60\n",
      "          42       0.62      0.78      0.69        90\n",
      "\n",
      "    accuracy                           0.83     12630\n",
      "   macro avg       0.78      0.75      0.75     12630\n",
      "weighted avg       0.83      0.83      0.82     12630\n",
      "\n",
      "\n"
     ]
    }
   ],
   "source": [
    "print(\"Classification report for SVM classifier %s:\\n%s\\n\"\n",
    "      % (svm, metrics.classification_report(test_y, y_pred_svm)))"
   ]
  },
  {
   "cell_type": "code",
   "execution_count": null,
   "id": "f6c5cdb6",
   "metadata": {},
   "outputs": [],
   "source": []
  },
  {
   "cell_type": "code",
   "execution_count": 33,
   "id": "fe38786b",
   "metadata": {},
   "outputs": [
    {
     "data": {
      "text/html": [
       "<div>\n",
       "<style scoped>\n",
       "    .dataframe tbody tr th:only-of-type {\n",
       "        vertical-align: middle;\n",
       "    }\n",
       "\n",
       "    .dataframe tbody tr th {\n",
       "        vertical-align: top;\n",
       "    }\n",
       "\n",
       "    .dataframe thead th {\n",
       "        text-align: right;\n",
       "    }\n",
       "</style>\n",
       "<table border=\"1\" class=\"dataframe\">\n",
       "  <thead>\n",
       "    <tr style=\"text-align: right;\">\n",
       "      <th></th>\n",
       "      <th>Model</th>\n",
       "      <th>Accuracy (%)</th>\n",
       "    </tr>\n",
       "  </thead>\n",
       "  <tbody>\n",
       "    <tr>\n",
       "      <th>0</th>\n",
       "      <td>Kneigh</td>\n",
       "      <td>39.295329</td>\n",
       "    </tr>\n",
       "    <tr>\n",
       "      <th>1</th>\n",
       "      <td>logistic</td>\n",
       "      <td>84.441805</td>\n",
       "    </tr>\n",
       "    <tr>\n",
       "      <th>2</th>\n",
       "      <td>SVM</td>\n",
       "      <td>82.565321</td>\n",
       "    </tr>\n",
       "  </tbody>\n",
       "</table>\n",
       "</div>"
      ],
      "text/plain": [
       "      Model  Accuracy (%)\n",
       "0    Kneigh     39.295329\n",
       "1  logistic     84.441805\n",
       "2       SVM     82.565321"
      ]
     },
     "execution_count": 33,
     "metadata": {},
     "output_type": "execute_result"
    }
   ],
   "source": [
    "df_model"
   ]
  },
  {
   "cell_type": "code",
   "execution_count": 34,
   "id": "ad89431c",
   "metadata": {},
   "outputs": [
    {
     "data": {
      "text/html": [
       "<div>\n",
       "<style scoped>\n",
       "    .dataframe tbody tr th:only-of-type {\n",
       "        vertical-align: middle;\n",
       "    }\n",
       "\n",
       "    .dataframe tbody tr th {\n",
       "        vertical-align: top;\n",
       "    }\n",
       "\n",
       "    .dataframe thead th {\n",
       "        text-align: right;\n",
       "    }\n",
       "</style>\n",
       "<table border=\"1\" class=\"dataframe\">\n",
       "  <thead>\n",
       "    <tr style=\"text-align: right;\">\n",
       "      <th></th>\n",
       "      <th>Model</th>\n",
       "      <th>Score</th>\n",
       "      <th>Value</th>\n",
       "    </tr>\n",
       "  </thead>\n",
       "  <tbody>\n",
       "    <tr>\n",
       "      <th>0</th>\n",
       "      <td>Kneigh</td>\n",
       "      <td>Recall</td>\n",
       "      <td>0.337397</td>\n",
       "    </tr>\n",
       "    <tr>\n",
       "      <th>1</th>\n",
       "      <td>Kneigh</td>\n",
       "      <td>Precision</td>\n",
       "      <td>0.387503</td>\n",
       "    </tr>\n",
       "    <tr>\n",
       "      <th>2</th>\n",
       "      <td>Kneigh</td>\n",
       "      <td>F1</td>\n",
       "      <td>0.346867</td>\n",
       "    </tr>\n",
       "    <tr>\n",
       "      <th>3</th>\n",
       "      <td>Kneigh</td>\n",
       "      <td>Accuracy</td>\n",
       "      <td>0.392953</td>\n",
       "    </tr>\n",
       "    <tr>\n",
       "      <th>4</th>\n",
       "      <td>logistic</td>\n",
       "      <td>Recall</td>\n",
       "      <td>0.337397</td>\n",
       "    </tr>\n",
       "    <tr>\n",
       "      <th>5</th>\n",
       "      <td>logistic</td>\n",
       "      <td>Precision</td>\n",
       "      <td>0.387503</td>\n",
       "    </tr>\n",
       "    <tr>\n",
       "      <th>6</th>\n",
       "      <td>logistic</td>\n",
       "      <td>F1</td>\n",
       "      <td>0.346867</td>\n",
       "    </tr>\n",
       "    <tr>\n",
       "      <th>7</th>\n",
       "      <td>logistic</td>\n",
       "      <td>Accuracy</td>\n",
       "      <td>0.844418</td>\n",
       "    </tr>\n",
       "    <tr>\n",
       "      <th>8</th>\n",
       "      <td>SVM</td>\n",
       "      <td>Recall</td>\n",
       "      <td>0.745271</td>\n",
       "    </tr>\n",
       "    <tr>\n",
       "      <th>9</th>\n",
       "      <td>SVM</td>\n",
       "      <td>Precision</td>\n",
       "      <td>0.783737</td>\n",
       "    </tr>\n",
       "    <tr>\n",
       "      <th>10</th>\n",
       "      <td>SVM</td>\n",
       "      <td>F1</td>\n",
       "      <td>0.753691</td>\n",
       "    </tr>\n",
       "    <tr>\n",
       "      <th>11</th>\n",
       "      <td>SVM</td>\n",
       "      <td>Accuracy</td>\n",
       "      <td>0.825653</td>\n",
       "    </tr>\n",
       "  </tbody>\n",
       "</table>\n",
       "</div>"
      ],
      "text/plain": [
       "       Model      Score     Value\n",
       "0     Kneigh     Recall  0.337397\n",
       "1     Kneigh  Precision  0.387503\n",
       "2     Kneigh         F1  0.346867\n",
       "3     Kneigh   Accuracy  0.392953\n",
       "4   logistic     Recall  0.337397\n",
       "5   logistic  Precision  0.387503\n",
       "6   logistic         F1  0.346867\n",
       "7   logistic   Accuracy  0.844418\n",
       "8        SVM     Recall  0.745271\n",
       "9        SVM  Precision  0.783737\n",
       "10       SVM         F1  0.753691\n",
       "11       SVM   Accuracy  0.825653"
      ]
     },
     "execution_count": 34,
     "metadata": {},
     "output_type": "execute_result"
    }
   ],
   "source": [
    "df_scores"
   ]
  },
  {
   "cell_type": "code",
   "execution_count": null,
   "id": "abecf1db",
   "metadata": {},
   "outputs": [],
   "source": []
  },
  {
   "cell_type": "markdown",
   "id": "0f220344",
   "metadata": {},
   "source": [
    "## Random Forest"
   ]
  },
  {
   "cell_type": "code",
   "execution_count": 35,
   "id": "bd91db03",
   "metadata": {},
   "outputs": [],
   "source": [
    "y_pred_list=[]\n",
    "tree_list = [50,100,200,300,500]\n",
    "\n",
    "rf_accuracy=[]\n",
    "\n",
    "for n in tree_list:\n",
    "    \n",
    "    rf = RandomForestClassifier(n_estimators=n, random_state=121,criterion='entropy')\n",
    "    rf.fit(train_x, train_y)\n",
    "   \n",
    "    y_pred_list.append(rf.predict(test_x))\n",
    "    \n",
    "    rf_accuracy.append(metrics.accuracy_score(test_y,rf.predict(test_x)))"
   ]
  },
  {
   "cell_type": "code",
   "execution_count": 36,
   "id": "7821fec0",
   "metadata": {},
   "outputs": [
    {
     "data": {
      "text/plain": [
       "[0.7745051464766429,\n",
       " 0.7878068091844814,\n",
       " 0.793507521773555,\n",
       " 0.7966745843230404,\n",
       " 0.798258115597783]"
      ]
     },
     "execution_count": 36,
     "metadata": {},
     "output_type": "execute_result"
    }
   ],
   "source": [
    "rf_accuracy"
   ]
  },
  {
   "cell_type": "markdown",
   "id": "cea06b13",
   "metadata": {},
   "source": [
    "# Best Random Forest model"
   ]
  },
  {
   "cell_type": "code",
   "execution_count": 37,
   "id": "7e5e4326",
   "metadata": {},
   "outputs": [
    {
     "data": {
      "text/plain": [
       "0.7966745843230404"
      ]
     },
     "execution_count": 37,
     "metadata": {},
     "output_type": "execute_result"
    }
   ],
   "source": [
    "rf_clf = RandomForestClassifier(n_estimators=300,criterion='entropy')\n",
    "y_pred_rf = y_pred_list[3]\n",
    "\n",
    "\n",
    "acc_rf = rf_accuracy[3]\n",
    "df_scores.loc[len(df_scores)] = [\"RF\",\"Accuracy\",acc_rf]\n",
    "\n",
    "df_model.loc[len(df_model)] = [\"RF\", acc_rf*100]\n",
    "acc_rf"
   ]
  },
  {
   "cell_type": "code",
   "execution_count": null,
   "id": "91050948",
   "metadata": {},
   "outputs": [],
   "source": []
  },
  {
   "cell_type": "markdown",
   "id": "0f4675d8",
   "metadata": {},
   "source": [
    "# Calculating recall, precision and f1 score "
   ]
  },
  {
   "cell_type": "code",
   "execution_count": 38,
   "id": "dc503331",
   "metadata": {},
   "outputs": [],
   "source": [
    "recall_rf = metrics.recall_score(test_y, y_pred_rf,average='macro')\n",
    "df_scores.loc[len(df_scores)] = [\"RF\",\"Recall\",recall_rf]\n",
    "\n",
    "precision_rf = metrics.precision_score(test_y, y_pred_rf,average='macro')\n",
    "df_scores.loc[len(df_scores)] = [\"RF\",\"Precision\",precision_rf]\n",
    "\n",
    "f1_rf = metrics.f1_score(test_y, y_pred_rf,average='macro')\n",
    "df_scores.loc[len(df_scores)] = [\"RF\",\"F1\",f1_rf]\n"
   ]
  },
  {
   "cell_type": "code",
   "execution_count": 39,
   "id": "c34c4f9e",
   "metadata": {},
   "outputs": [
    {
     "name": "stdout",
     "output_type": "stream",
     "text": [
      "Classification report for RF classifier RandomForestClassifier(criterion='entropy', n_estimators=300):\n",
      "              precision    recall  f1-score   support\n",
      "\n",
      "           0       1.00      0.17      0.29        60\n",
      "           1       0.71      0.86      0.78       720\n",
      "           2       0.61      0.77      0.68       750\n",
      "           3       0.63      0.71      0.67       450\n",
      "           4       0.73      0.80      0.76       660\n",
      "           5       0.59      0.63      0.61       630\n",
      "           6       0.69      0.56      0.62       150\n",
      "           7       0.73      0.76      0.75       450\n",
      "           8       0.72      0.56      0.63       450\n",
      "           9       0.88      0.87      0.87       480\n",
      "          10       0.90      0.96      0.93       660\n",
      "          11       0.86      0.96      0.91       420\n",
      "          12       0.97      0.92      0.95       690\n",
      "          13       0.97      0.99      0.98       720\n",
      "          14       0.98      1.00      0.99       270\n",
      "          15       0.99      0.77      0.87       210\n",
      "          16       1.00      0.93      0.97       150\n",
      "          17       1.00      0.81      0.89       360\n",
      "          18       0.73      0.63      0.67       390\n",
      "          19       0.86      0.42      0.56        60\n",
      "          20       0.44      0.61      0.51        90\n",
      "          21       1.00      0.47      0.64        90\n",
      "          22       0.95      0.82      0.88       120\n",
      "          23       0.70      0.59      0.64       150\n",
      "          24       1.00      0.49      0.66        90\n",
      "          25       0.77      0.93      0.84       480\n",
      "          26       0.63      0.72      0.67       180\n",
      "          27       0.80      0.07      0.12        60\n",
      "          28       0.76      0.73      0.74       150\n",
      "          29       0.83      0.48      0.61        90\n",
      "          30       0.63      0.39      0.48       150\n",
      "          31       0.67      0.75      0.71       270\n",
      "          32       0.48      0.20      0.28        60\n",
      "          33       0.89      0.86      0.87       210\n",
      "          34       0.97      0.97      0.97       120\n",
      "          35       0.94      0.89      0.91       390\n",
      "          36       0.97      0.75      0.85       120\n",
      "          37       1.00      0.90      0.95        60\n",
      "          38       0.89      0.98      0.93       690\n",
      "          39       0.98      0.67      0.79        90\n",
      "          40       0.97      0.94      0.96        90\n",
      "          41       0.47      0.58      0.52        60\n",
      "          42       0.75      0.33      0.46        90\n",
      "\n",
      "    accuracy                           0.80     12630\n",
      "   macro avg       0.82      0.70      0.73     12630\n",
      "weighted avg       0.81      0.80      0.79     12630\n",
      "\n",
      "\n"
     ]
    }
   ],
   "source": [
    "print(\"Classification report for RF classifier %s:\\n%s\\n\"\n",
    "      % (rf_clf, metrics.classification_report(test_y, y_pred_rf)))"
   ]
  },
  {
   "cell_type": "code",
   "execution_count": 40,
   "id": "f277b8ab",
   "metadata": {},
   "outputs": [
    {
     "data": {
      "text/html": [
       "<div>\n",
       "<style scoped>\n",
       "    .dataframe tbody tr th:only-of-type {\n",
       "        vertical-align: middle;\n",
       "    }\n",
       "\n",
       "    .dataframe tbody tr th {\n",
       "        vertical-align: top;\n",
       "    }\n",
       "\n",
       "    .dataframe thead th {\n",
       "        text-align: right;\n",
       "    }\n",
       "</style>\n",
       "<table border=\"1\" class=\"dataframe\">\n",
       "  <thead>\n",
       "    <tr style=\"text-align: right;\">\n",
       "      <th></th>\n",
       "      <th>Model</th>\n",
       "      <th>Accuracy (%)</th>\n",
       "    </tr>\n",
       "  </thead>\n",
       "  <tbody>\n",
       "    <tr>\n",
       "      <th>0</th>\n",
       "      <td>Kneigh</td>\n",
       "      <td>39.295329</td>\n",
       "    </tr>\n",
       "    <tr>\n",
       "      <th>1</th>\n",
       "      <td>logistic</td>\n",
       "      <td>84.441805</td>\n",
       "    </tr>\n",
       "    <tr>\n",
       "      <th>2</th>\n",
       "      <td>SVM</td>\n",
       "      <td>82.565321</td>\n",
       "    </tr>\n",
       "    <tr>\n",
       "      <th>3</th>\n",
       "      <td>RF</td>\n",
       "      <td>79.667458</td>\n",
       "    </tr>\n",
       "  </tbody>\n",
       "</table>\n",
       "</div>"
      ],
      "text/plain": [
       "      Model  Accuracy (%)\n",
       "0    Kneigh     39.295329\n",
       "1  logistic     84.441805\n",
       "2       SVM     82.565321\n",
       "3        RF     79.667458"
      ]
     },
     "execution_count": 40,
     "metadata": {},
     "output_type": "execute_result"
    }
   ],
   "source": [
    "df_model"
   ]
  },
  {
   "cell_type": "code",
   "execution_count": 41,
   "id": "d7da1608",
   "metadata": {},
   "outputs": [
    {
     "data": {
      "text/html": [
       "<div>\n",
       "<style scoped>\n",
       "    .dataframe tbody tr th:only-of-type {\n",
       "        vertical-align: middle;\n",
       "    }\n",
       "\n",
       "    .dataframe tbody tr th {\n",
       "        vertical-align: top;\n",
       "    }\n",
       "\n",
       "    .dataframe thead th {\n",
       "        text-align: right;\n",
       "    }\n",
       "</style>\n",
       "<table border=\"1\" class=\"dataframe\">\n",
       "  <thead>\n",
       "    <tr style=\"text-align: right;\">\n",
       "      <th></th>\n",
       "      <th>Model</th>\n",
       "      <th>Score</th>\n",
       "      <th>Value</th>\n",
       "    </tr>\n",
       "  </thead>\n",
       "  <tbody>\n",
       "    <tr>\n",
       "      <th>0</th>\n",
       "      <td>Kneigh</td>\n",
       "      <td>Recall</td>\n",
       "      <td>0.337397</td>\n",
       "    </tr>\n",
       "    <tr>\n",
       "      <th>1</th>\n",
       "      <td>Kneigh</td>\n",
       "      <td>Precision</td>\n",
       "      <td>0.387503</td>\n",
       "    </tr>\n",
       "    <tr>\n",
       "      <th>2</th>\n",
       "      <td>Kneigh</td>\n",
       "      <td>F1</td>\n",
       "      <td>0.346867</td>\n",
       "    </tr>\n",
       "    <tr>\n",
       "      <th>3</th>\n",
       "      <td>Kneigh</td>\n",
       "      <td>Accuracy</td>\n",
       "      <td>0.392953</td>\n",
       "    </tr>\n",
       "    <tr>\n",
       "      <th>4</th>\n",
       "      <td>logistic</td>\n",
       "      <td>Recall</td>\n",
       "      <td>0.337397</td>\n",
       "    </tr>\n",
       "    <tr>\n",
       "      <th>5</th>\n",
       "      <td>logistic</td>\n",
       "      <td>Precision</td>\n",
       "      <td>0.387503</td>\n",
       "    </tr>\n",
       "    <tr>\n",
       "      <th>6</th>\n",
       "      <td>logistic</td>\n",
       "      <td>F1</td>\n",
       "      <td>0.346867</td>\n",
       "    </tr>\n",
       "    <tr>\n",
       "      <th>7</th>\n",
       "      <td>logistic</td>\n",
       "      <td>Accuracy</td>\n",
       "      <td>0.844418</td>\n",
       "    </tr>\n",
       "    <tr>\n",
       "      <th>8</th>\n",
       "      <td>SVM</td>\n",
       "      <td>Recall</td>\n",
       "      <td>0.745271</td>\n",
       "    </tr>\n",
       "    <tr>\n",
       "      <th>9</th>\n",
       "      <td>SVM</td>\n",
       "      <td>Precision</td>\n",
       "      <td>0.783737</td>\n",
       "    </tr>\n",
       "    <tr>\n",
       "      <th>10</th>\n",
       "      <td>SVM</td>\n",
       "      <td>F1</td>\n",
       "      <td>0.753691</td>\n",
       "    </tr>\n",
       "    <tr>\n",
       "      <th>11</th>\n",
       "      <td>SVM</td>\n",
       "      <td>Accuracy</td>\n",
       "      <td>0.825653</td>\n",
       "    </tr>\n",
       "    <tr>\n",
       "      <th>12</th>\n",
       "      <td>RF</td>\n",
       "      <td>Accuracy</td>\n",
       "      <td>0.796675</td>\n",
       "    </tr>\n",
       "    <tr>\n",
       "      <th>13</th>\n",
       "      <td>RF</td>\n",
       "      <td>Recall</td>\n",
       "      <td>0.701531</td>\n",
       "    </tr>\n",
       "    <tr>\n",
       "      <th>14</th>\n",
       "      <td>RF</td>\n",
       "      <td>Precision</td>\n",
       "      <td>0.815159</td>\n",
       "    </tr>\n",
       "    <tr>\n",
       "      <th>15</th>\n",
       "      <td>RF</td>\n",
       "      <td>F1</td>\n",
       "      <td>0.729321</td>\n",
       "    </tr>\n",
       "  </tbody>\n",
       "</table>\n",
       "</div>"
      ],
      "text/plain": [
       "       Model      Score     Value\n",
       "0     Kneigh     Recall  0.337397\n",
       "1     Kneigh  Precision  0.387503\n",
       "2     Kneigh         F1  0.346867\n",
       "3     Kneigh   Accuracy  0.392953\n",
       "4   logistic     Recall  0.337397\n",
       "5   logistic  Precision  0.387503\n",
       "6   logistic         F1  0.346867\n",
       "7   logistic   Accuracy  0.844418\n",
       "8        SVM     Recall  0.745271\n",
       "9        SVM  Precision  0.783737\n",
       "10       SVM         F1  0.753691\n",
       "11       SVM   Accuracy  0.825653\n",
       "12        RF   Accuracy  0.796675\n",
       "13        RF     Recall  0.701531\n",
       "14        RF  Precision  0.815159\n",
       "15        RF         F1  0.729321"
      ]
     },
     "execution_count": 41,
     "metadata": {},
     "output_type": "execute_result"
    }
   ],
   "source": [
    "df_scores"
   ]
  },
  {
   "cell_type": "code",
   "execution_count": 49,
   "id": "177bfdd5",
   "metadata": {},
   "outputs": [
    {
     "data": {
      "image/png": "[encoded data removed]",
      "text/plain": [
       "<Figure size 1080x720 with 1 Axes>"
      ]
     },
     "metadata": {
      "needs_background": "light"
     },
     "output_type": "display_data"
    }
   ],
   "source": [
    "fig = plt.figure(figsize=(15,10))\n",
    "\n",
    "ax = plt.axes()\n",
    "ax = sns.barplot(x=\"Model\", y=\"Value\", hue=\"Score\", data=df_scores, palette=\"ch:.25\",edgecolor=\"1\")\n",
    "ax.set_title('Traffic Sign Baseline Models')\n",
    "\n",
    "for i in ax.patches:\n",
    "    ax.text(i.get_x(), i.get_height()+.02,str(round((i.get_height()), 4)), fontsize=10)\n",
    "\n",
    "plt.savefig('comparing.png')\n",
    "plt.show() "
   ]
  },
  {
   "cell_type": "code",
   "execution_count": null,
   "id": "846a7d7c",
   "metadata": {},
   "outputs": [],
   "source": []
  },
  {
   "cell_type": "code",
   "execution_count": null,
   "id": "26adf496",
   "metadata": {},
   "outputs": [],
   "source": []
  },
  {
   "cell_type": "code",
   "execution_count": null,
   "id": "7cfe470a",
   "metadata": {},
   "outputs": [],
   "source": []
  }
 ],
 "metadata": {
  "kernelspec": {
   "display_name": "Python 3",
   "language": "python",
   "name": "python3"
  },
  "language_info": {
   "codemirror_mode": {
    "name": "ipython",
    "version": 3
   },
   "file_extension": ".py",
   "mimetype": "text/x-python",
   "name": "python",
   "nbconvert_exporter": "python",
   "pygments_lexer": "ipython3",
   "version": "3.8.8"
  }
 },
 "nbformat": 4,
 "nbformat_minor": 5
}
